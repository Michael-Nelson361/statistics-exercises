{
 "cells": [
  {
   "cell_type": "markdown",
   "id": "a035c2ef-d946-4170-8a08-82dda8002e75",
   "metadata": {},
   "source": [
    "For each of the following questions, formulate a null and alternative hypothesis (be as specific as you can be), then give an example of what a true positive, true negative, type I and type II errors would look like. Note that some of the questions are intentionally phrased in a vague way. It is your job to reword these as more precise questions that could be tested."
   ]
  },
  {
   "cell_type": "markdown",
   "id": "49343a09-9bee-48bd-9416-92d27e8b5a37",
   "metadata": {},
   "source": [
    "- Has the network latency gone up since we switched internet service providers?"
   ]
  },
  {
   "cell_type": "markdown",
   "id": "d070cfa9-2f59-495f-b906-f85376ade428",
   "metadata": {},
   "source": [
    "Null hypothesis: There is no change in latency between previous service provider and new service provider.\n",
    "\n",
    "Alternative hypothesis: There is a change in latency between the service providers.\n",
    "\n",
    "    -True positive: Network latency has neither increased or decreased.\n",
    "    -True negative: Network latency has changed due to change in service providers\n",
    "    -Type I error: A latency change was shown, but the latency actually hadn't changed.\n",
    "    -Type II error: There was a change in latency, but we failed to identify it."
   ]
  },
  {
   "cell_type": "markdown",
   "id": "7b9115ac-05fc-4a3c-904f-0c0eb8f38180",
   "metadata": {},
   "source": [
    "- Is the website redesign any good?"
   ]
  },
  {
   "cell_type": "markdown",
   "id": "de41379d-cce6-4549-bfb8-382b4cb66f0a",
   "metadata": {},
   "source": [
    "Null hypothesis: Daily visitors to the website remain the same.\n",
    "\n",
    "Alternative hypothesis: Daily visitors to the website have changed.\n",
    "\n",
    "    -True positive: There is an increase in daily website visitors\n",
    "    -True negative: Website visitors stay approximately the same.\n",
    "    -Type I error: There was an increase in daily visitors, but it was caused by an external event.\n",
    "    -Type II error: We noticed no change in visitors, but we were measuring the wrong metric."
   ]
  },
  {
   "cell_type": "markdown",
   "id": "482881d5-fc32-4584-9cfb-01753461baa6",
   "metadata": {},
   "source": [
    "- Is our television ad driving more sales?"
   ]
  },
  {
   "cell_type": "markdown",
   "id": "3ddbd1d3-f820-414e-aa10-dfd10e1bb0e0",
   "metadata": {},
   "source": [
    "Null hypothesis: Sales have stayed the same since the television ad has aired.\n",
    "\n",
    "Alternative hypothesis: Sales have changed since the airing of the ad.\n",
    "\n",
    "    -True positive: The ad caused sales to either increase or decrease.\n",
    "    -True negative: The ad had no effect on sales.\n",
    "    -Type I error: We viewed a change in sales, but in reality the ad had no effect.\n",
    "    -Type II error: The ad had an effect, but we couldn't observe any direct change."
   ]
  },
  {
   "cell_type": "code",
   "execution_count": null,
   "id": "285b6af4-ed68-4a05-a0d4-f670364f7bf7",
   "metadata": {},
   "outputs": [],
   "source": []
  }
 ],
 "metadata": {
  "kernelspec": {
   "display_name": "Python 3 (ipykernel)",
   "language": "python",
   "name": "python3"
  },
  "language_info": {
   "codemirror_mode": {
    "name": "ipython",
    "version": 3
   },
   "file_extension": ".py",
   "mimetype": "text/x-python",
   "name": "python",
   "nbconvert_exporter": "python",
   "pygments_lexer": "ipython3",
   "version": "3.11.5"
  }
 },
 "nbformat": 4,
 "nbformat_minor": 5
}
