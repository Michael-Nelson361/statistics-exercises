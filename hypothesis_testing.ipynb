{
 "cells": [
  {
   "cell_type": "markdown",
   "id": "5eeadc52-9037-4e72-82dc-2a2cc43e933b",
   "metadata": {
    "tags": []
   },
   "source": [
    "## Overview"
   ]
  },
  {
   "cell_type": "markdown",
   "id": "a035c2ef-d946-4170-8a08-82dda8002e75",
   "metadata": {},
   "source": [
    "For each of the following questions, formulate a null and alternative hypothesis (be as specific as you can be), then give an example of what a true positive, true negative, type I and type II errors would look like. Note that some of the questions are intentionally phrased in a vague way. It is your job to reword these as more precise questions that could be tested."
   ]
  },
  {
   "cell_type": "markdown",
   "id": "49343a09-9bee-48bd-9416-92d27e8b5a37",
   "metadata": {},
   "source": [
    "- Has the network latency gone up since we switched internet service providers?"
   ]
  },
  {
   "cell_type": "markdown",
   "id": "d070cfa9-2f59-495f-b906-f85376ade428",
   "metadata": {},
   "source": [
    "Null hypothesis: There is no change in latency between previous service provider and new service provider.\n",
    "\n",
    "Alternative hypothesis: There is a change in latency between the service providers.\n",
    "\n",
    "    -True positive: Network latency has changed due to change in service providers\n",
    "    -True negative: Network latency has neither increased or decreased.\n",
    "    -Type I error: A latency change was shown, but the latency actually hadn't changed.\n",
    "    -Type II error: There was a change in latency, but we failed to identify it."
   ]
  },
  {
   "cell_type": "markdown",
   "id": "7b9115ac-05fc-4a3c-904f-0c0eb8f38180",
   "metadata": {},
   "source": [
    "- Is the website redesign any good?"
   ]
  },
  {
   "cell_type": "markdown",
   "id": "de41379d-cce6-4549-bfb8-382b4cb66f0a",
   "metadata": {},
   "source": [
    "Null hypothesis: Daily visitors to the website remain the same.\n",
    "\n",
    "Alternative hypothesis: Daily visitors to the website have changed.\n",
    "\n",
    "    -True positive: There is an increase in daily website visitors\n",
    "    -True negative: Website visitors stay approximately the same.\n",
    "    -Type I error: There was an increase in daily visitors, but it was caused by an external event.\n",
    "    -Type II error: We noticed no change in visitors, but we were measuring the wrong metric."
   ]
  },
  {
   "cell_type": "markdown",
   "id": "482881d5-fc32-4584-9cfb-01753461baa6",
   "metadata": {},
   "source": [
    "- Is our television ad driving more sales?"
   ]
  },
  {
   "cell_type": "markdown",
   "id": "3ddbd1d3-f820-414e-aa10-dfd10e1bb0e0",
   "metadata": {},
   "source": [
    "Null hypothesis: Sales have stayed the same since the television ad has aired.\n",
    "\n",
    "Alternative hypothesis: Sales have changed since the airing of the ad.\n",
    "\n",
    "    -True positive: The ad caused sales to either increase or decrease.\n",
    "    -True negative: The ad had no effect on sales.\n",
    "    -Type I error: We viewed a change in sales, but in reality the ad had no effect.\n",
    "    -Type II error: The ad had an effect, but we couldn't observe any direct change."
   ]
  },
  {
   "cell_type": "markdown",
   "id": "7c839ea0-7de3-494a-9692-9a84ddca8b3b",
   "metadata": {},
   "source": [
    "----"
   ]
  },
  {
   "cell_type": "markdown",
   "id": "e44230ab-5b81-43df-a14d-53655715b391",
   "metadata": {},
   "source": [
    "## Comparison of Groups"
   ]
  },
  {
   "cell_type": "code",
   "execution_count": 2,
   "id": "9ecaa7e8-3d7d-44d3-b947-f2da113d2038",
   "metadata": {
    "tags": []
   },
   "outputs": [],
   "source": [
    "# standard data imports\n",
    "import pandas as pd\n",
    "import numpy as np\n",
    "import env\n",
    "\n",
    "#pulling sample dataset\n",
    "from pydataset import data\n",
    "\n",
    "#new library for stats\n",
    "from scipy import stats"
   ]
  },
  {
   "cell_type": "markdown",
   "id": "a4cdd2ea-e08c-4894-b13f-e21f0b494bad",
   "metadata": {},
   "source": [
    "1. Use the following contingency table to help answer the question of whether using a Macbook and being a Codeup student are independent of each other.\n",
    "    \n",
    "    \n",
    "|  | Codeup Student | Not Codeup Student |\n",
    "| --- | --- | --- |\n",
    "| Uses a Macbook | 49 | 20 |\n",
    "| Doesn't Use A Macbook | 1 | 30 |"
   ]
  },
  {
   "cell_type": "markdown",
   "id": "7c84f100-895f-444e-9265-8999289fac5c",
   "metadata": {},
   "source": [
    "$H_0$: Using a Macbook and being a Codeup student are unrelated to each other (independent)\n",
    "\n",
    "$H_a$: Using a Macbook and being a Codeup student *are* related to each other (dependent)"
   ]
  },
  {
   "cell_type": "code",
   "execution_count": 6,
   "id": "e3401264-1295-43c5-a385-38955ae71958",
   "metadata": {
    "tags": []
   },
   "outputs": [
    {
     "data": {
      "text/html": [
       "<div>\n",
       "<style scoped>\n",
       "    .dataframe tbody tr th:only-of-type {\n",
       "        vertical-align: middle;\n",
       "    }\n",
       "\n",
       "    .dataframe tbody tr th {\n",
       "        vertical-align: top;\n",
       "    }\n",
       "\n",
       "    .dataframe thead th {\n",
       "        text-align: right;\n",
       "    }\n",
       "</style>\n",
       "<table border=\"1\" class=\"dataframe\">\n",
       "  <thead>\n",
       "    <tr style=\"text-align: right;\">\n",
       "      <th></th>\n",
       "      <th>CodeupStudent</th>\n",
       "      <th>NotCodeupStudent</th>\n",
       "    </tr>\n",
       "  </thead>\n",
       "  <tbody>\n",
       "    <tr>\n",
       "      <th>Uses a Macbook</th>\n",
       "      <td>49</td>\n",
       "      <td>20</td>\n",
       "    </tr>\n",
       "    <tr>\n",
       "      <th>Doesn't Use A Macbook</th>\n",
       "      <td>1</td>\n",
       "      <td>30</td>\n",
       "    </tr>\n",
       "  </tbody>\n",
       "</table>\n",
       "</div>"
      ],
      "text/plain": [
       "                       CodeupStudent  NotCodeupStudent\n",
       "Uses a Macbook                    49                20\n",
       "Doesn't Use A Macbook              1                30"
      ]
     },
     "execution_count": 6,
     "metadata": {},
     "output_type": "execute_result"
    }
   ],
   "source": [
    "# Create the table\n",
    "observed = pd.DataFrame(\n",
    "{\n",
    "    'CodeupStudent':[49,1],\n",
    "    'NotCodeupStudent':[20,30]\n",
    "},index=['Uses a Macbook',\"Doesn't Use A Macbook\"]\n",
    ")\n",
    "observed"
   ]
  },
  {
   "cell_type": "code",
   "execution_count": 8,
   "id": "52718a9c-ea48-4098-87b1-26b69eff828b",
   "metadata": {
    "tags": []
   },
   "outputs": [],
   "source": [
    "# Set our alpha\n",
    "alpha = 0.05"
   ]
  },
  {
   "cell_type": "code",
   "execution_count": 15,
   "id": "99d3c352-8364-4e98-825b-113136459f73",
   "metadata": {
    "tags": []
   },
   "outputs": [],
   "source": [
    "chi2,p,dof,expected = stats.chi2_contingency(observed)"
   ]
  },
  {
   "cell_type": "code",
   "execution_count": 17,
   "id": "71f89a94-5782-4493-a808-cbb42fe6e800",
   "metadata": {
    "tags": []
   },
   "outputs": [
    {
     "name": "stdout",
     "output_type": "stream",
     "text": [
      "Observed\n",
      "[[49 20]\n",
      " [ 1 30]]\n",
      "\n",
      "Expected\n",
      "[[34 34]\n",
      " [15 15]]\n",
      "\n",
      "----\n",
      "chi^2 = 36.6526\n",
      "p     = 0.0000\n"
     ]
    }
   ],
   "source": [
    "#output values\n",
    "print('Observed')\n",
    "print(observed.values)\n",
    "print('\\nExpected')\n",
    "print(expected.astype(int))\n",
    "print('\\n----')\n",
    "print(f'chi^2 = {chi2:.4f}')\n",
    "print(f'p     = {p:.4f}')"
   ]
  },
  {
   "cell_type": "code",
   "execution_count": 19,
   "id": "12f1e852-ea72-4ca7-9896-030e665b84f8",
   "metadata": {
    "tags": []
   },
   "outputs": [
    {
     "name": "stdout",
     "output_type": "stream",
     "text": [
      "We reject the null hypothesis\n"
     ]
    }
   ],
   "source": [
    "if p < alpha:\n",
    "    print('We reject the null hypothesis')\n",
    "else:\n",
    "    print('We fail to reject the null hypothesis')"
   ]
  },
  {
   "cell_type": "markdown",
   "id": "48e2e11d-3571-4679-8526-5c1897d57304",
   "metadata": {},
   "source": [
    "2. Choose another 2 categorical variables from the `mpg` dataset."
   ]
  },
  {
   "cell_type": "code",
   "execution_count": 22,
   "id": "4315f305-bcd0-4dff-9d67-bdc9ff7671de",
   "metadata": {
    "tags": []
   },
   "outputs": [
    {
     "data": {
      "text/plain": [
       "manufacturer     object\n",
       "model            object\n",
       "displ           float64\n",
       "year              int64\n",
       "cyl               int64\n",
       "trans            object\n",
       "drv              object\n",
       "cty               int64\n",
       "hwy               int64\n",
       "fl               object\n",
       "class            object\n",
       "dtype: object"
      ]
     },
     "execution_count": 22,
     "metadata": {},
     "output_type": "execute_result"
    }
   ],
   "source": [
    "# Import the dataset\n",
    "mpg = data('mpg')\n",
    "mpg.dtypes"
   ]
  },
  {
   "cell_type": "code",
   "execution_count": 24,
   "id": "b54223da-2db5-4f49-8c9a-529788d0d626",
   "metadata": {
    "tags": []
   },
   "outputs": [
    {
     "data": {
      "text/html": [
       "<div>\n",
       "<style scoped>\n",
       "    .dataframe tbody tr th:only-of-type {\n",
       "        vertical-align: middle;\n",
       "    }\n",
       "\n",
       "    .dataframe tbody tr th {\n",
       "        vertical-align: top;\n",
       "    }\n",
       "\n",
       "    .dataframe thead th {\n",
       "        text-align: right;\n",
       "    }\n",
       "</style>\n",
       "<table border=\"1\" class=\"dataframe\">\n",
       "  <thead>\n",
       "    <tr style=\"text-align: right;\">\n",
       "      <th></th>\n",
       "      <th>manufacturer</th>\n",
       "      <th>model</th>\n",
       "      <th>displ</th>\n",
       "      <th>year</th>\n",
       "      <th>cyl</th>\n",
       "      <th>trans</th>\n",
       "      <th>drv</th>\n",
       "      <th>cty</th>\n",
       "      <th>hwy</th>\n",
       "      <th>fl</th>\n",
       "      <th>class</th>\n",
       "    </tr>\n",
       "  </thead>\n",
       "  <tbody>\n",
       "    <tr>\n",
       "      <th>50</th>\n",
       "      <td>dodge</td>\n",
       "      <td>dakota pickup 4wd</td>\n",
       "      <td>3.7</td>\n",
       "      <td>2008</td>\n",
       "      <td>6</td>\n",
       "      <td>auto(l4)</td>\n",
       "      <td>4</td>\n",
       "      <td>14</td>\n",
       "      <td>18</td>\n",
       "      <td>r</td>\n",
       "      <td>pickup</td>\n",
       "    </tr>\n",
       "    <tr>\n",
       "      <th>225</th>\n",
       "      <td>volkswagen</td>\n",
       "      <td>new beetle</td>\n",
       "      <td>2.0</td>\n",
       "      <td>1999</td>\n",
       "      <td>4</td>\n",
       "      <td>auto(l4)</td>\n",
       "      <td>f</td>\n",
       "      <td>19</td>\n",
       "      <td>26</td>\n",
       "      <td>r</td>\n",
       "      <td>subcompact</td>\n",
       "    </tr>\n",
       "    <tr>\n",
       "      <th>28</th>\n",
       "      <td>chevrolet</td>\n",
       "      <td>corvette</td>\n",
       "      <td>7.0</td>\n",
       "      <td>2008</td>\n",
       "      <td>8</td>\n",
       "      <td>manual(m6)</td>\n",
       "      <td>r</td>\n",
       "      <td>15</td>\n",
       "      <td>24</td>\n",
       "      <td>p</td>\n",
       "      <td>2seater</td>\n",
       "    </tr>\n",
       "    <tr>\n",
       "      <th>216</th>\n",
       "      <td>volkswagen</td>\n",
       "      <td>jetta</td>\n",
       "      <td>2.0</td>\n",
       "      <td>2008</td>\n",
       "      <td>4</td>\n",
       "      <td>auto(s6)</td>\n",
       "      <td>f</td>\n",
       "      <td>22</td>\n",
       "      <td>29</td>\n",
       "      <td>p</td>\n",
       "      <td>compact</td>\n",
       "    </tr>\n",
       "    <tr>\n",
       "      <th>205</th>\n",
       "      <td>toyota</td>\n",
       "      <td>toyota tacoma 4wd</td>\n",
       "      <td>3.4</td>\n",
       "      <td>1999</td>\n",
       "      <td>6</td>\n",
       "      <td>auto(l4)</td>\n",
       "      <td>4</td>\n",
       "      <td>15</td>\n",
       "      <td>19</td>\n",
       "      <td>r</td>\n",
       "      <td>pickup</td>\n",
       "    </tr>\n",
       "    <tr>\n",
       "      <th>17</th>\n",
       "      <td>audi</td>\n",
       "      <td>a6 quattro</td>\n",
       "      <td>3.1</td>\n",
       "      <td>2008</td>\n",
       "      <td>6</td>\n",
       "      <td>auto(s6)</td>\n",
       "      <td>4</td>\n",
       "      <td>17</td>\n",
       "      <td>25</td>\n",
       "      <td>p</td>\n",
       "      <td>midsize</td>\n",
       "    </tr>\n",
       "    <tr>\n",
       "      <th>16</th>\n",
       "      <td>audi</td>\n",
       "      <td>a6 quattro</td>\n",
       "      <td>2.8</td>\n",
       "      <td>1999</td>\n",
       "      <td>6</td>\n",
       "      <td>auto(l5)</td>\n",
       "      <td>4</td>\n",
       "      <td>15</td>\n",
       "      <td>24</td>\n",
       "      <td>p</td>\n",
       "      <td>midsize</td>\n",
       "    </tr>\n",
       "    <tr>\n",
       "      <th>164</th>\n",
       "      <td>subaru</td>\n",
       "      <td>forester awd</td>\n",
       "      <td>2.5</td>\n",
       "      <td>2008</td>\n",
       "      <td>4</td>\n",
       "      <td>auto(l4)</td>\n",
       "      <td>4</td>\n",
       "      <td>20</td>\n",
       "      <td>26</td>\n",
       "      <td>r</td>\n",
       "      <td>suv</td>\n",
       "    </tr>\n",
       "    <tr>\n",
       "      <th>25</th>\n",
       "      <td>chevrolet</td>\n",
       "      <td>corvette</td>\n",
       "      <td>5.7</td>\n",
       "      <td>1999</td>\n",
       "      <td>8</td>\n",
       "      <td>auto(l4)</td>\n",
       "      <td>r</td>\n",
       "      <td>15</td>\n",
       "      <td>23</td>\n",
       "      <td>p</td>\n",
       "      <td>2seater</td>\n",
       "    </tr>\n",
       "    <tr>\n",
       "      <th>200</th>\n",
       "      <td>toyota</td>\n",
       "      <td>land cruiser wagon 4wd</td>\n",
       "      <td>5.7</td>\n",
       "      <td>2008</td>\n",
       "      <td>8</td>\n",
       "      <td>auto(s6)</td>\n",
       "      <td>4</td>\n",
       "      <td>13</td>\n",
       "      <td>18</td>\n",
       "      <td>r</td>\n",
       "      <td>suv</td>\n",
       "    </tr>\n",
       "  </tbody>\n",
       "</table>\n",
       "</div>"
      ],
      "text/plain": [
       "    manufacturer                   model  displ  year  cyl       trans drv  \\\n",
       "50         dodge       dakota pickup 4wd    3.7  2008    6    auto(l4)   4   \n",
       "225   volkswagen              new beetle    2.0  1999    4    auto(l4)   f   \n",
       "28     chevrolet                corvette    7.0  2008    8  manual(m6)   r   \n",
       "216   volkswagen                   jetta    2.0  2008    4    auto(s6)   f   \n",
       "205       toyota       toyota tacoma 4wd    3.4  1999    6    auto(l4)   4   \n",
       "17          audi              a6 quattro    3.1  2008    6    auto(s6)   4   \n",
       "16          audi              a6 quattro    2.8  1999    6    auto(l5)   4   \n",
       "164       subaru            forester awd    2.5  2008    4    auto(l4)   4   \n",
       "25     chevrolet                corvette    5.7  1999    8    auto(l4)   r   \n",
       "200       toyota  land cruiser wagon 4wd    5.7  2008    8    auto(s6)   4   \n",
       "\n",
       "     cty  hwy fl       class  \n",
       "50    14   18  r      pickup  \n",
       "225   19   26  r  subcompact  \n",
       "28    15   24  p     2seater  \n",
       "216   22   29  p     compact  \n",
       "205   15   19  r      pickup  \n",
       "17    17   25  p     midsize  \n",
       "16    15   24  p     midsize  \n",
       "164   20   26  r         suv  \n",
       "25    15   23  p     2seater  \n",
       "200   13   18  r         suv  "
      ]
     },
     "execution_count": 24,
     "metadata": {},
     "output_type": "execute_result"
    }
   ],
   "source": [
    "mpg.sample(10)"
   ]
  },
  {
   "cell_type": "code",
   "execution_count": 26,
   "id": "39f0c7a1-80db-4c72-a9c5-e08c5ca73047",
   "metadata": {
    "tags": []
   },
   "outputs": [],
   "source": [
    "# Cycling through variables to explore value counts\n",
    "# mpg['class'].describe()"
   ]
  },
  {
   "cell_type": "markdown",
   "id": "c986f6dd-167a-4083-90db-683dce5bb0ea",
   "metadata": {},
   "source": [
    "- State your null and alternative hypotheses.\n",
    "\n",
    "$H_0$: The number of cylinders in a vehicle are unrelated to the class of vehicle.\n",
    "\n",
    "$H_a$: The number of cylinders in a vehicle *are* related to the class of vehicle."
   ]
  },
  {
   "cell_type": "markdown",
   "id": "9c0ae01e-31f2-4918-a202-b27d28f4ba20",
   "metadata": {},
   "source": [
    "- State your alpha."
   ]
  },
  {
   "cell_type": "code",
   "execution_count": 30,
   "id": "e06f2f68-65b7-44b9-9d22-d7dad257e7df",
   "metadata": {
    "tags": []
   },
   "outputs": [],
   "source": [
    "alpha = 0.05"
   ]
  },
  {
   "cell_type": "markdown",
   "id": "10583938-6829-4789-abe6-3671fd3fbb78",
   "metadata": {},
   "source": [
    "- Perform a $chi2$ test of independence.    "
   ]
  },
  {
   "cell_type": "code",
   "execution_count": 33,
   "id": "ef6d4836-2623-4d90-ab55-f7ef96d651ba",
   "metadata": {
    "tags": []
   },
   "outputs": [
    {
     "data": {
      "text/html": [
       "<div>\n",
       "<style scoped>\n",
       "    .dataframe tbody tr th:only-of-type {\n",
       "        vertical-align: middle;\n",
       "    }\n",
       "\n",
       "    .dataframe tbody tr th {\n",
       "        vertical-align: top;\n",
       "    }\n",
       "\n",
       "    .dataframe thead th {\n",
       "        text-align: right;\n",
       "    }\n",
       "</style>\n",
       "<table border=\"1\" class=\"dataframe\">\n",
       "  <thead>\n",
       "    <tr style=\"text-align: right;\">\n",
       "      <th>class</th>\n",
       "      <th>2seater</th>\n",
       "      <th>compact</th>\n",
       "      <th>midsize</th>\n",
       "      <th>minivan</th>\n",
       "      <th>pickup</th>\n",
       "      <th>subcompact</th>\n",
       "      <th>suv</th>\n",
       "    </tr>\n",
       "    <tr>\n",
       "      <th>cyl</th>\n",
       "      <th></th>\n",
       "      <th></th>\n",
       "      <th></th>\n",
       "      <th></th>\n",
       "      <th></th>\n",
       "      <th></th>\n",
       "      <th></th>\n",
       "    </tr>\n",
       "  </thead>\n",
       "  <tbody>\n",
       "    <tr>\n",
       "      <th>4</th>\n",
       "      <td>0</td>\n",
       "      <td>32</td>\n",
       "      <td>16</td>\n",
       "      <td>1</td>\n",
       "      <td>3</td>\n",
       "      <td>21</td>\n",
       "      <td>8</td>\n",
       "    </tr>\n",
       "    <tr>\n",
       "      <th>5</th>\n",
       "      <td>0</td>\n",
       "      <td>2</td>\n",
       "      <td>0</td>\n",
       "      <td>0</td>\n",
       "      <td>0</td>\n",
       "      <td>2</td>\n",
       "      <td>0</td>\n",
       "    </tr>\n",
       "    <tr>\n",
       "      <th>6</th>\n",
       "      <td>0</td>\n",
       "      <td>13</td>\n",
       "      <td>23</td>\n",
       "      <td>10</td>\n",
       "      <td>10</td>\n",
       "      <td>7</td>\n",
       "      <td>16</td>\n",
       "    </tr>\n",
       "    <tr>\n",
       "      <th>8</th>\n",
       "      <td>5</td>\n",
       "      <td>0</td>\n",
       "      <td>2</td>\n",
       "      <td>0</td>\n",
       "      <td>20</td>\n",
       "      <td>5</td>\n",
       "      <td>38</td>\n",
       "    </tr>\n",
       "  </tbody>\n",
       "</table>\n",
       "</div>"
      ],
      "text/plain": [
       "class  2seater  compact  midsize  minivan  pickup  subcompact  suv\n",
       "cyl                                                               \n",
       "4            0       32       16        1       3          21    8\n",
       "5            0        2        0        0       0           2    0\n",
       "6            0       13       23       10      10           7   16\n",
       "8            5        0        2        0      20           5   38"
      ]
     },
     "execution_count": 33,
     "metadata": {},
     "output_type": "execute_result"
    }
   ],
   "source": [
    "observed = pd.crosstab(mpg.cyl,mpg['class'])\n",
    "observed"
   ]
  },
  {
   "cell_type": "code",
   "execution_count": 35,
   "id": "4d74df59-b647-4c23-ab09-b028851e365b",
   "metadata": {
    "tags": []
   },
   "outputs": [],
   "source": [
    "chi2,p,dof,expected = stats.chi2_contingency(observed)"
   ]
  },
  {
   "cell_type": "markdown",
   "id": "c56f1ae5-9e66-4ce3-9084-df0a008f5df2",
   "metadata": {},
   "source": [
    "- State your conclusion"
   ]
  },
  {
   "cell_type": "code",
   "execution_count": 38,
   "id": "16750aac-929f-4340-ac0d-0928844a822f",
   "metadata": {
    "tags": []
   },
   "outputs": [
    {
     "name": "stdout",
     "output_type": "stream",
     "text": [
      "We reject the null hypothesis\n"
     ]
    }
   ],
   "source": [
    "if p < alpha:\n",
    "    print('We reject the null hypothesis')\n",
    "else:\n",
    "    print('We fail to reject the null hypothesis')"
   ]
  },
  {
   "cell_type": "markdown",
   "id": "aa2b6a71-fc9c-4990-aebd-0b751353b427",
   "metadata": {},
   "source": [
    "We conclude that there *is* a relationship between the class of the car and the cylinders."
   ]
  },
  {
   "cell_type": "markdown",
   "id": "bda7940c-969c-4de5-ad01-7d049b6f02c0",
   "metadata": {},
   "source": [
    "3. Use the data from the employees database to answer these questions:"
   ]
  },
  {
   "cell_type": "code",
   "execution_count": 42,
   "id": "98413c19-3a3c-4216-b433-d702bb7a9140",
   "metadata": {
    "tags": []
   },
   "outputs": [],
   "source": [
    "# Pull the tables from the database\n",
    "url = env.get_db_url('employees')\n",
    "\n",
    "query = '''\n",
    "SELECT * FROM employees\n",
    "JOIN dept_emp\n",
    "    USING(emp_no)\n",
    "JOIN departments\n",
    "    USING(dept_no)\n",
    "'''\n",
    "\n",
    "employees = pd.read_sql(query,url)"
   ]
  },
  {
   "cell_type": "code",
   "execution_count": 43,
   "id": "ba0567de-b2be-43f3-93b5-620c64e5bc46",
   "metadata": {
    "tags": []
   },
   "outputs": [
    {
     "data": {
      "text/html": [
       "<div>\n",
       "<style scoped>\n",
       "    .dataframe tbody tr th:only-of-type {\n",
       "        vertical-align: middle;\n",
       "    }\n",
       "\n",
       "    .dataframe tbody tr th {\n",
       "        vertical-align: top;\n",
       "    }\n",
       "\n",
       "    .dataframe thead th {\n",
       "        text-align: right;\n",
       "    }\n",
       "</style>\n",
       "<table border=\"1\" class=\"dataframe\">\n",
       "  <thead>\n",
       "    <tr style=\"text-align: right;\">\n",
       "      <th></th>\n",
       "      <th>dept_no</th>\n",
       "      <th>emp_no</th>\n",
       "      <th>birth_date</th>\n",
       "      <th>first_name</th>\n",
       "      <th>last_name</th>\n",
       "      <th>gender</th>\n",
       "      <th>hire_date</th>\n",
       "      <th>from_date</th>\n",
       "      <th>to_date</th>\n",
       "      <th>dept_name</th>\n",
       "    </tr>\n",
       "  </thead>\n",
       "  <tbody>\n",
       "    <tr>\n",
       "      <th>0</th>\n",
       "      <td>d009</td>\n",
       "      <td>10011</td>\n",
       "      <td>1953-11-07</td>\n",
       "      <td>Mary</td>\n",
       "      <td>Sluis</td>\n",
       "      <td>F</td>\n",
       "      <td>1990-01-22</td>\n",
       "      <td>1990-01-22</td>\n",
       "      <td>1996-11-09</td>\n",
       "      <td>Customer Service</td>\n",
       "    </tr>\n",
       "    <tr>\n",
       "      <th>1</th>\n",
       "      <td>d009</td>\n",
       "      <td>10038</td>\n",
       "      <td>1960-07-20</td>\n",
       "      <td>Huan</td>\n",
       "      <td>Lortz</td>\n",
       "      <td>M</td>\n",
       "      <td>1989-09-20</td>\n",
       "      <td>1989-09-20</td>\n",
       "      <td>9999-01-01</td>\n",
       "      <td>Customer Service</td>\n",
       "    </tr>\n",
       "    <tr>\n",
       "      <th>2</th>\n",
       "      <td>d009</td>\n",
       "      <td>10049</td>\n",
       "      <td>1961-04-24</td>\n",
       "      <td>Basil</td>\n",
       "      <td>Tramer</td>\n",
       "      <td>F</td>\n",
       "      <td>1992-05-04</td>\n",
       "      <td>1992-05-04</td>\n",
       "      <td>9999-01-01</td>\n",
       "      <td>Customer Service</td>\n",
       "    </tr>\n",
       "    <tr>\n",
       "      <th>3</th>\n",
       "      <td>d009</td>\n",
       "      <td>10060</td>\n",
       "      <td>1961-10-15</td>\n",
       "      <td>Breannda</td>\n",
       "      <td>Billingsley</td>\n",
       "      <td>M</td>\n",
       "      <td>1987-11-02</td>\n",
       "      <td>1992-11-11</td>\n",
       "      <td>9999-01-01</td>\n",
       "      <td>Customer Service</td>\n",
       "    </tr>\n",
       "    <tr>\n",
       "      <th>4</th>\n",
       "      <td>d009</td>\n",
       "      <td>10088</td>\n",
       "      <td>1954-02-25</td>\n",
       "      <td>Jungsoon</td>\n",
       "      <td>Syrzycki</td>\n",
       "      <td>F</td>\n",
       "      <td>1988-09-02</td>\n",
       "      <td>1992-03-21</td>\n",
       "      <td>9999-01-01</td>\n",
       "      <td>Customer Service</td>\n",
       "    </tr>\n",
       "  </tbody>\n",
       "</table>\n",
       "</div>"
      ],
      "text/plain": [
       "  dept_no  emp_no  birth_date first_name    last_name gender   hire_date  \\\n",
       "0    d009   10011  1953-11-07       Mary        Sluis      F  1990-01-22   \n",
       "1    d009   10038  1960-07-20       Huan        Lortz      M  1989-09-20   \n",
       "2    d009   10049  1961-04-24      Basil       Tramer      F  1992-05-04   \n",
       "3    d009   10060  1961-10-15   Breannda  Billingsley      M  1987-11-02   \n",
       "4    d009   10088  1954-02-25   Jungsoon     Syrzycki      F  1988-09-02   \n",
       "\n",
       "    from_date     to_date         dept_name  \n",
       "0  1990-01-22  1996-11-09  Customer Service  \n",
       "1  1989-09-20  9999-01-01  Customer Service  \n",
       "2  1992-05-04  9999-01-01  Customer Service  \n",
       "3  1992-11-11  9999-01-01  Customer Service  \n",
       "4  1992-03-21  9999-01-01  Customer Service  "
      ]
     },
     "execution_count": 43,
     "metadata": {},
     "output_type": "execute_result"
    }
   ],
   "source": [
    "employees.head()"
   ]
  },
  {
   "cell_type": "markdown",
   "id": "98481641-62d0-4def-98bf-958ab8461940",
   "metadata": {},
   "source": [
    "- Is an employee's gender independent of whether an employee works in sales or marketing? (only look at current employees)\n",
    "\n",
    "$H_0$: An employee's gender is independent of whether they work in sales or marketing\n",
    "\n",
    "$H_a$: An employee's gender is *not* independent of whether they work in sales or marketing"
   ]
  },
  {
   "cell_type": "code",
   "execution_count": 47,
   "id": "7bd36053-3786-4cdc-8c03-419b15dd44b3",
   "metadata": {
    "tags": []
   },
   "outputs": [
    {
     "data": {
      "text/html": [
       "<div>\n",
       "<style scoped>\n",
       "    .dataframe tbody tr th:only-of-type {\n",
       "        vertical-align: middle;\n",
       "    }\n",
       "\n",
       "    .dataframe tbody tr th {\n",
       "        vertical-align: top;\n",
       "    }\n",
       "\n",
       "    .dataframe thead th {\n",
       "        text-align: right;\n",
       "    }\n",
       "</style>\n",
       "<table border=\"1\" class=\"dataframe\">\n",
       "  <thead>\n",
       "    <tr style=\"text-align: right;\">\n",
       "      <th></th>\n",
       "      <th>dept_no</th>\n",
       "      <th>emp_no</th>\n",
       "      <th>birth_date</th>\n",
       "      <th>first_name</th>\n",
       "      <th>last_name</th>\n",
       "      <th>gender</th>\n",
       "      <th>hire_date</th>\n",
       "      <th>from_date</th>\n",
       "      <th>to_date</th>\n",
       "      <th>dept_name</th>\n",
       "    </tr>\n",
       "  </thead>\n",
       "  <tbody>\n",
       "    <tr>\n",
       "      <th>146844</th>\n",
       "      <td>d001</td>\n",
       "      <td>46727</td>\n",
       "      <td>1953-11-22</td>\n",
       "      <td>LiMin</td>\n",
       "      <td>Dratva</td>\n",
       "      <td>M</td>\n",
       "      <td>1988-10-10</td>\n",
       "      <td>2001-03-02</td>\n",
       "      <td>9999-01-01</td>\n",
       "      <td>Marketing</td>\n",
       "    </tr>\n",
       "    <tr>\n",
       "      <th>294849</th>\n",
       "      <td>d007</td>\n",
       "      <td>99091</td>\n",
       "      <td>1960-08-28</td>\n",
       "      <td>Jongsuk</td>\n",
       "      <td>Luga</td>\n",
       "      <td>F</td>\n",
       "      <td>1992-12-20</td>\n",
       "      <td>1996-05-25</td>\n",
       "      <td>9999-01-01</td>\n",
       "      <td>Sales</td>\n",
       "    </tr>\n",
       "    <tr>\n",
       "      <th>323048</th>\n",
       "      <td>d007</td>\n",
       "      <td>450702</td>\n",
       "      <td>1962-10-25</td>\n",
       "      <td>Giap</td>\n",
       "      <td>Schneeberger</td>\n",
       "      <td>M</td>\n",
       "      <td>1988-03-23</td>\n",
       "      <td>1998-12-12</td>\n",
       "      <td>9999-01-01</td>\n",
       "      <td>Sales</td>\n",
       "    </tr>\n",
       "    <tr>\n",
       "      <th>321335</th>\n",
       "      <td>d007</td>\n",
       "      <td>440786</td>\n",
       "      <td>1957-04-17</td>\n",
       "      <td>Marek</td>\n",
       "      <td>Naumovich</td>\n",
       "      <td>M</td>\n",
       "      <td>1991-04-30</td>\n",
       "      <td>1991-04-30</td>\n",
       "      <td>9999-01-01</td>\n",
       "      <td>Sales</td>\n",
       "    </tr>\n",
       "    <tr>\n",
       "      <th>298246</th>\n",
       "      <td>d007</td>\n",
       "      <td>208794</td>\n",
       "      <td>1964-05-22</td>\n",
       "      <td>Garnik</td>\n",
       "      <td>Nergos</td>\n",
       "      <td>F</td>\n",
       "      <td>1985-12-02</td>\n",
       "      <td>1992-11-13</td>\n",
       "      <td>9999-01-01</td>\n",
       "      <td>Sales</td>\n",
       "    </tr>\n",
       "  </tbody>\n",
       "</table>\n",
       "</div>"
      ],
      "text/plain": [
       "       dept_no  emp_no  birth_date first_name     last_name gender  \\\n",
       "146844    d001   46727  1953-11-22      LiMin        Dratva      M   \n",
       "294849    d007   99091  1960-08-28    Jongsuk          Luga      F   \n",
       "323048    d007  450702  1962-10-25       Giap  Schneeberger      M   \n",
       "321335    d007  440786  1957-04-17      Marek     Naumovich      M   \n",
       "298246    d007  208794  1964-05-22     Garnik        Nergos      F   \n",
       "\n",
       "         hire_date   from_date     to_date  dept_name  \n",
       "146844  1988-10-10  2001-03-02  9999-01-01  Marketing  \n",
       "294849  1992-12-20  1996-05-25  9999-01-01      Sales  \n",
       "323048  1988-03-23  1998-12-12  9999-01-01      Sales  \n",
       "321335  1991-04-30  1991-04-30  9999-01-01      Sales  \n",
       "298246  1985-12-02  1992-11-13  9999-01-01      Sales  "
      ]
     },
     "execution_count": 47,
     "metadata": {},
     "output_type": "execute_result"
    }
   ],
   "source": [
    "# Saving as new dataframe since I might need the old one still\n",
    "dept_bool = (employees.dept_name == 'Sales') | (employees.dept_name == 'Marketing')\n",
    "current_bool = employees.to_date.astype(str) == '9999-01-01'\n",
    "curr_emp = employees[current_bool & dept_bool]\n",
    "curr_emp.sample(5)"
   ]
  },
  {
   "cell_type": "code",
   "execution_count": 49,
   "id": "4bf3e556-be66-40ed-a709-c0c5e926dccd",
   "metadata": {
    "tags": []
   },
   "outputs": [
    {
     "data": {
      "text/html": [
       "<div>\n",
       "<style scoped>\n",
       "    .dataframe tbody tr th:only-of-type {\n",
       "        vertical-align: middle;\n",
       "    }\n",
       "\n",
       "    .dataframe tbody tr th {\n",
       "        vertical-align: top;\n",
       "    }\n",
       "\n",
       "    .dataframe thead th {\n",
       "        text-align: right;\n",
       "    }\n",
       "</style>\n",
       "<table border=\"1\" class=\"dataframe\">\n",
       "  <thead>\n",
       "    <tr style=\"text-align: right;\">\n",
       "      <th>gender</th>\n",
       "      <th>F</th>\n",
       "      <th>M</th>\n",
       "    </tr>\n",
       "    <tr>\n",
       "      <th>dept_name</th>\n",
       "      <th></th>\n",
       "      <th></th>\n",
       "    </tr>\n",
       "  </thead>\n",
       "  <tbody>\n",
       "    <tr>\n",
       "      <th>Marketing</th>\n",
       "      <td>5864</td>\n",
       "      <td>8978</td>\n",
       "    </tr>\n",
       "    <tr>\n",
       "      <th>Sales</th>\n",
       "      <td>14999</td>\n",
       "      <td>22702</td>\n",
       "    </tr>\n",
       "  </tbody>\n",
       "</table>\n",
       "</div>"
      ],
      "text/plain": [
       "gender         F      M\n",
       "dept_name              \n",
       "Marketing   5864   8978\n",
       "Sales      14999  22702"
      ]
     },
     "execution_count": 49,
     "metadata": {},
     "output_type": "execute_result"
    }
   ],
   "source": [
    "# Save the crosstab into observed variable\n",
    "observed = pd.crosstab(curr_emp.gender,curr_emp.dept_name).T\n",
    "observed"
   ]
  },
  {
   "cell_type": "code",
   "execution_count": 51,
   "id": "df6c9739-58da-4e70-8887-648078a9005a",
   "metadata": {
    "tags": []
   },
   "outputs": [],
   "source": [
    "chi2,p,dof,expected = stats.chi2_contingency(observed)"
   ]
  },
  {
   "cell_type": "code",
   "execution_count": 70,
   "id": "516afb06-5d28-47c2-a359-9dae88c88a0e",
   "metadata": {
    "tags": []
   },
   "outputs": [
    {
     "name": "stdout",
     "output_type": "stream",
     "text": [
      "We fail to reject the null hypothesis\n"
     ]
    }
   ],
   "source": [
    "if p < alpha:\n",
    "    print('We reject the null hypothesis')\n",
    "else:\n",
    "    print('We fail to reject the null hypothesis')"
   ]
  },
  {
   "cell_type": "markdown",
   "id": "284c1e47-2f49-4d25-8af2-225d6da98fe3",
   "metadata": {},
   "source": [
    "We conclude that there is no relationship between gender and whether the employee has worked in Sales or Marketing."
   ]
  },
  {
   "cell_type": "markdown",
   "id": "4c7956a8-cc1f-4b83-8741-1e9d5f2cd857",
   "metadata": {},
   "source": [
    "- Is an employee's gender independent of whether or not they are or have been a manager?\n",
    "\n",
    "$H_0$: An employee's gender is independent of whether they are or have been a manager.\n",
    "\n",
    "$H_a$: An employee's gender is *not* independent of whether they are or have been a manager."
   ]
  },
  {
   "cell_type": "code",
   "execution_count": 56,
   "id": "f194e202-5482-49dd-9459-0a7e1b342ec8",
   "metadata": {
    "tags": []
   },
   "outputs": [
    {
     "data": {
      "text/html": [
       "<div>\n",
       "<style scoped>\n",
       "    .dataframe tbody tr th:only-of-type {\n",
       "        vertical-align: middle;\n",
       "    }\n",
       "\n",
       "    .dataframe tbody tr th {\n",
       "        vertical-align: top;\n",
       "    }\n",
       "\n",
       "    .dataframe thead th {\n",
       "        text-align: right;\n",
       "    }\n",
       "</style>\n",
       "<table border=\"1\" class=\"dataframe\">\n",
       "  <thead>\n",
       "    <tr style=\"text-align: right;\">\n",
       "      <th></th>\n",
       "      <th>emp_no</th>\n",
       "      <th>dept_no</th>\n",
       "      <th>from_date</th>\n",
       "      <th>to_date</th>\n",
       "    </tr>\n",
       "  </thead>\n",
       "  <tbody>\n",
       "    <tr>\n",
       "      <th>7</th>\n",
       "      <td>110344</td>\n",
       "      <td>d004</td>\n",
       "      <td>1988-09-09</td>\n",
       "      <td>1992-08-02</td>\n",
       "    </tr>\n",
       "    <tr>\n",
       "      <th>22</th>\n",
       "      <td>111877</td>\n",
       "      <td>d009</td>\n",
       "      <td>1992-09-08</td>\n",
       "      <td>1996-01-03</td>\n",
       "    </tr>\n",
       "    <tr>\n",
       "      <th>14</th>\n",
       "      <td>110800</td>\n",
       "      <td>d006</td>\n",
       "      <td>1991-09-12</td>\n",
       "      <td>1994-06-28</td>\n",
       "    </tr>\n",
       "    <tr>\n",
       "      <th>1</th>\n",
       "      <td>110039</td>\n",
       "      <td>d001</td>\n",
       "      <td>1991-10-01</td>\n",
       "      <td>9999-01-01</td>\n",
       "    </tr>\n",
       "    <tr>\n",
       "      <th>4</th>\n",
       "      <td>110183</td>\n",
       "      <td>d003</td>\n",
       "      <td>1985-01-01</td>\n",
       "      <td>1992-03-21</td>\n",
       "    </tr>\n",
       "    <tr>\n",
       "      <th>5</th>\n",
       "      <td>110228</td>\n",
       "      <td>d003</td>\n",
       "      <td>1992-03-21</td>\n",
       "      <td>9999-01-01</td>\n",
       "    </tr>\n",
       "    <tr>\n",
       "      <th>2</th>\n",
       "      <td>110085</td>\n",
       "      <td>d002</td>\n",
       "      <td>1985-01-01</td>\n",
       "      <td>1989-12-17</td>\n",
       "    </tr>\n",
       "    <tr>\n",
       "      <th>0</th>\n",
       "      <td>110022</td>\n",
       "      <td>d001</td>\n",
       "      <td>1985-01-01</td>\n",
       "      <td>1991-10-01</td>\n",
       "    </tr>\n",
       "    <tr>\n",
       "      <th>8</th>\n",
       "      <td>110386</td>\n",
       "      <td>d004</td>\n",
       "      <td>1992-08-02</td>\n",
       "      <td>1996-08-30</td>\n",
       "    </tr>\n",
       "    <tr>\n",
       "      <th>21</th>\n",
       "      <td>111784</td>\n",
       "      <td>d009</td>\n",
       "      <td>1988-10-17</td>\n",
       "      <td>1992-09-08</td>\n",
       "    </tr>\n",
       "  </tbody>\n",
       "</table>\n",
       "</div>"
      ],
      "text/plain": [
       "    emp_no dept_no   from_date     to_date\n",
       "7   110344    d004  1988-09-09  1992-08-02\n",
       "22  111877    d009  1992-09-08  1996-01-03\n",
       "14  110800    d006  1991-09-12  1994-06-28\n",
       "1   110039    d001  1991-10-01  9999-01-01\n",
       "4   110183    d003  1985-01-01  1992-03-21\n",
       "5   110228    d003  1992-03-21  9999-01-01\n",
       "2   110085    d002  1985-01-01  1989-12-17\n",
       "0   110022    d001  1985-01-01  1991-10-01\n",
       "8   110386    d004  1992-08-02  1996-08-30\n",
       "21  111784    d009  1988-10-17  1992-09-08"
      ]
     },
     "execution_count": 56,
     "metadata": {},
     "output_type": "execute_result"
    }
   ],
   "source": [
    "# Read new query\n",
    "\n",
    "query = '''\n",
    "SELECT *\n",
    "FROM dept_manager\n",
    "'''\n",
    "\n",
    "manager = pd.read_sql(query,url)\n",
    "manager.sample(10)"
   ]
  },
  {
   "cell_type": "code",
   "execution_count": 57,
   "id": "7aab3c00-b6d3-4023-8637-44656da3d4e1",
   "metadata": {
    "tags": []
   },
   "outputs": [
    {
     "data": {
      "text/html": [
       "<div>\n",
       "<style scoped>\n",
       "    .dataframe tbody tr th:only-of-type {\n",
       "        vertical-align: middle;\n",
       "    }\n",
       "\n",
       "    .dataframe tbody tr th {\n",
       "        vertical-align: top;\n",
       "    }\n",
       "\n",
       "    .dataframe thead th {\n",
       "        text-align: right;\n",
       "    }\n",
       "</style>\n",
       "<table border=\"1\" class=\"dataframe\">\n",
       "  <thead>\n",
       "    <tr style=\"text-align: right;\">\n",
       "      <th></th>\n",
       "      <th>dept_no_x</th>\n",
       "      <th>emp_no</th>\n",
       "      <th>birth_date</th>\n",
       "      <th>first_name</th>\n",
       "      <th>last_name</th>\n",
       "      <th>gender</th>\n",
       "      <th>hire_date</th>\n",
       "      <th>from_date_x</th>\n",
       "      <th>to_date_x</th>\n",
       "      <th>dept_name</th>\n",
       "      <th>dept_no_y</th>\n",
       "      <th>from_date_y</th>\n",
       "      <th>to_date_y</th>\n",
       "    </tr>\n",
       "  </thead>\n",
       "  <tbody>\n",
       "    <tr>\n",
       "      <th>228822</th>\n",
       "      <td>d004</td>\n",
       "      <td>462182</td>\n",
       "      <td>1954-02-07</td>\n",
       "      <td>Yannis</td>\n",
       "      <td>Birdsall</td>\n",
       "      <td>F</td>\n",
       "      <td>1991-03-20</td>\n",
       "      <td>1998-02-15</td>\n",
       "      <td>9999-01-01</td>\n",
       "      <td>Production</td>\n",
       "      <td>NaN</td>\n",
       "      <td>NaN</td>\n",
       "      <td>NaN</td>\n",
       "    </tr>\n",
       "    <tr>\n",
       "      <th>229993</th>\n",
       "      <td>d004</td>\n",
       "      <td>466851</td>\n",
       "      <td>1953-09-21</td>\n",
       "      <td>Owen</td>\n",
       "      <td>Leijenhorst</td>\n",
       "      <td>M</td>\n",
       "      <td>1987-10-01</td>\n",
       "      <td>1987-10-01</td>\n",
       "      <td>1997-06-28</td>\n",
       "      <td>Production</td>\n",
       "      <td>NaN</td>\n",
       "      <td>NaN</td>\n",
       "      <td>NaN</td>\n",
       "    </tr>\n",
       "    <tr>\n",
       "      <th>257228</th>\n",
       "      <td>d006</td>\n",
       "      <td>484203</td>\n",
       "      <td>1961-08-23</td>\n",
       "      <td>Jiong</td>\n",
       "      <td>Boudaillier</td>\n",
       "      <td>F</td>\n",
       "      <td>1988-02-19</td>\n",
       "      <td>1996-08-30</td>\n",
       "      <td>1998-12-07</td>\n",
       "      <td>Quality Management</td>\n",
       "      <td>NaN</td>\n",
       "      <td>NaN</td>\n",
       "      <td>NaN</td>\n",
       "    </tr>\n",
       "    <tr>\n",
       "      <th>121158</th>\n",
       "      <td>d002</td>\n",
       "      <td>405677</td>\n",
       "      <td>1953-06-22</td>\n",
       "      <td>Hugo</td>\n",
       "      <td>Delgrange</td>\n",
       "      <td>F</td>\n",
       "      <td>1992-10-30</td>\n",
       "      <td>1992-10-30</td>\n",
       "      <td>9999-01-01</td>\n",
       "      <td>Finance</td>\n",
       "      <td>NaN</td>\n",
       "      <td>NaN</td>\n",
       "      <td>NaN</td>\n",
       "    </tr>\n",
       "    <tr>\n",
       "      <th>210603</th>\n",
       "      <td>d004</td>\n",
       "      <td>287789</td>\n",
       "      <td>1963-06-30</td>\n",
       "      <td>Stella</td>\n",
       "      <td>Hardjono</td>\n",
       "      <td>M</td>\n",
       "      <td>1990-10-21</td>\n",
       "      <td>1996-08-03</td>\n",
       "      <td>1996-08-19</td>\n",
       "      <td>Production</td>\n",
       "      <td>NaN</td>\n",
       "      <td>NaN</td>\n",
       "      <td>NaN</td>\n",
       "    </tr>\n",
       "    <tr>\n",
       "      <th>288486</th>\n",
       "      <td>d007</td>\n",
       "      <td>61801</td>\n",
       "      <td>1961-07-13</td>\n",
       "      <td>Gor</td>\n",
       "      <td>Rissland</td>\n",
       "      <td>M</td>\n",
       "      <td>1994-12-10</td>\n",
       "      <td>1994-12-10</td>\n",
       "      <td>9999-01-01</td>\n",
       "      <td>Sales</td>\n",
       "      <td>NaN</td>\n",
       "      <td>NaN</td>\n",
       "      <td>NaN</td>\n",
       "    </tr>\n",
       "    <tr>\n",
       "      <th>237614</th>\n",
       "      <td>d004</td>\n",
       "      <td>497962</td>\n",
       "      <td>1956-07-07</td>\n",
       "      <td>Uwe</td>\n",
       "      <td>Pell</td>\n",
       "      <td>M</td>\n",
       "      <td>1985-03-05</td>\n",
       "      <td>1988-08-24</td>\n",
       "      <td>9999-01-01</td>\n",
       "      <td>Production</td>\n",
       "      <td>NaN</td>\n",
       "      <td>NaN</td>\n",
       "      <td>NaN</td>\n",
       "    </tr>\n",
       "    <tr>\n",
       "      <th>305446</th>\n",
       "      <td>d007</td>\n",
       "      <td>250073</td>\n",
       "      <td>1964-08-27</td>\n",
       "      <td>Jiong</td>\n",
       "      <td>Bahk</td>\n",
       "      <td>M</td>\n",
       "      <td>1988-03-25</td>\n",
       "      <td>1998-04-13</td>\n",
       "      <td>2002-02-15</td>\n",
       "      <td>Sales</td>\n",
       "      <td>NaN</td>\n",
       "      <td>NaN</td>\n",
       "      <td>NaN</td>\n",
       "    </tr>\n",
       "    <tr>\n",
       "      <th>148159</th>\n",
       "      <td>d001</td>\n",
       "      <td>66551</td>\n",
       "      <td>1954-03-27</td>\n",
       "      <td>Eirik</td>\n",
       "      <td>Rosiles</td>\n",
       "      <td>F</td>\n",
       "      <td>1993-06-02</td>\n",
       "      <td>1993-06-02</td>\n",
       "      <td>9999-01-01</td>\n",
       "      <td>Marketing</td>\n",
       "      <td>NaN</td>\n",
       "      <td>NaN</td>\n",
       "      <td>NaN</td>\n",
       "    </tr>\n",
       "    <tr>\n",
       "      <th>139999</th>\n",
       "      <td>d003</td>\n",
       "      <td>424709</td>\n",
       "      <td>1956-08-01</td>\n",
       "      <td>Moni</td>\n",
       "      <td>Heijenga</td>\n",
       "      <td>M</td>\n",
       "      <td>1986-05-13</td>\n",
       "      <td>1992-01-17</td>\n",
       "      <td>2001-01-12</td>\n",
       "      <td>Human Resources</td>\n",
       "      <td>NaN</td>\n",
       "      <td>NaN</td>\n",
       "      <td>NaN</td>\n",
       "    </tr>\n",
       "  </tbody>\n",
       "</table>\n",
       "</div>"
      ],
      "text/plain": [
       "       dept_no_x  emp_no  birth_date first_name    last_name gender  \\\n",
       "228822      d004  462182  1954-02-07     Yannis     Birdsall      F   \n",
       "229993      d004  466851  1953-09-21       Owen  Leijenhorst      M   \n",
       "257228      d006  484203  1961-08-23      Jiong  Boudaillier      F   \n",
       "121158      d002  405677  1953-06-22       Hugo    Delgrange      F   \n",
       "210603      d004  287789  1963-06-30     Stella     Hardjono      M   \n",
       "288486      d007   61801  1961-07-13        Gor     Rissland      M   \n",
       "237614      d004  497962  1956-07-07        Uwe         Pell      M   \n",
       "305446      d007  250073  1964-08-27      Jiong         Bahk      M   \n",
       "148159      d001   66551  1954-03-27      Eirik      Rosiles      F   \n",
       "139999      d003  424709  1956-08-01       Moni     Heijenga      M   \n",
       "\n",
       "         hire_date from_date_x   to_date_x           dept_name dept_no_y  \\\n",
       "228822  1991-03-20  1998-02-15  9999-01-01          Production       NaN   \n",
       "229993  1987-10-01  1987-10-01  1997-06-28          Production       NaN   \n",
       "257228  1988-02-19  1996-08-30  1998-12-07  Quality Management       NaN   \n",
       "121158  1992-10-30  1992-10-30  9999-01-01             Finance       NaN   \n",
       "210603  1990-10-21  1996-08-03  1996-08-19          Production       NaN   \n",
       "288486  1994-12-10  1994-12-10  9999-01-01               Sales       NaN   \n",
       "237614  1985-03-05  1988-08-24  9999-01-01          Production       NaN   \n",
       "305446  1988-03-25  1998-04-13  2002-02-15               Sales       NaN   \n",
       "148159  1993-06-02  1993-06-02  9999-01-01           Marketing       NaN   \n",
       "139999  1986-05-13  1992-01-17  2001-01-12     Human Resources       NaN   \n",
       "\n",
       "       from_date_y to_date_y  \n",
       "228822         NaN       NaN  \n",
       "229993         NaN       NaN  \n",
       "257228         NaN       NaN  \n",
       "121158         NaN       NaN  \n",
       "210603         NaN       NaN  \n",
       "288486         NaN       NaN  \n",
       "237614         NaN       NaN  \n",
       "305446         NaN       NaN  \n",
       "148159         NaN       NaN  \n",
       "139999         NaN       NaN  "
      ]
     },
     "execution_count": 57,
     "metadata": {},
     "output_type": "execute_result"
    }
   ],
   "source": [
    "# Join employees with manager\n",
    "emp_manager = employees.merge(manager,how='left',on='emp_no')\n",
    "emp_manager.sample(10)"
   ]
  },
  {
   "cell_type": "code",
   "execution_count": 60,
   "id": "5e6906ce-1c49-4574-b232-2134a02b3a11",
   "metadata": {
    "tags": []
   },
   "outputs": [
    {
     "data": {
      "text/html": [
       "<div>\n",
       "<style scoped>\n",
       "    .dataframe tbody tr th:only-of-type {\n",
       "        vertical-align: middle;\n",
       "    }\n",
       "\n",
       "    .dataframe tbody tr th {\n",
       "        vertical-align: top;\n",
       "    }\n",
       "\n",
       "    .dataframe thead th {\n",
       "        text-align: right;\n",
       "    }\n",
       "</style>\n",
       "<table border=\"1\" class=\"dataframe\">\n",
       "  <thead>\n",
       "    <tr style=\"text-align: right;\">\n",
       "      <th></th>\n",
       "      <th>dept_no_x</th>\n",
       "      <th>emp_no</th>\n",
       "      <th>birth_date</th>\n",
       "      <th>first_name</th>\n",
       "      <th>last_name</th>\n",
       "      <th>gender</th>\n",
       "      <th>hire_date</th>\n",
       "      <th>dept_from_date</th>\n",
       "      <th>dept_to_date</th>\n",
       "      <th>dept_name</th>\n",
       "      <th>mgr_from_date</th>\n",
       "      <th>mgr_to_date</th>\n",
       "    </tr>\n",
       "  </thead>\n",
       "  <tbody>\n",
       "    <tr>\n",
       "      <th>39006</th>\n",
       "      <td>d005</td>\n",
       "      <td>64069</td>\n",
       "      <td>1963-11-01</td>\n",
       "      <td>Nectarios</td>\n",
       "      <td>Borovoy</td>\n",
       "      <td>M</td>\n",
       "      <td>1993-01-02</td>\n",
       "      <td>1993-01-02</td>\n",
       "      <td>9999-01-01</td>\n",
       "      <td>Development</td>\n",
       "      <td>NaN</td>\n",
       "      <td>NaN</td>\n",
       "    </tr>\n",
       "    <tr>\n",
       "      <th>16416</th>\n",
       "      <td>d009</td>\n",
       "      <td>409860</td>\n",
       "      <td>1964-10-16</td>\n",
       "      <td>Aris</td>\n",
       "      <td>Desikan</td>\n",
       "      <td>F</td>\n",
       "      <td>1987-08-20</td>\n",
       "      <td>2001-07-08</td>\n",
       "      <td>9999-01-01</td>\n",
       "      <td>Customer Service</td>\n",
       "      <td>NaN</td>\n",
       "      <td>NaN</td>\n",
       "    </tr>\n",
       "    <tr>\n",
       "      <th>329010</th>\n",
       "      <td>d007</td>\n",
       "      <td>484882</td>\n",
       "      <td>1960-03-06</td>\n",
       "      <td>Pradeep</td>\n",
       "      <td>Coney</td>\n",
       "      <td>F</td>\n",
       "      <td>1986-08-06</td>\n",
       "      <td>1987-12-11</td>\n",
       "      <td>9999-01-01</td>\n",
       "      <td>Sales</td>\n",
       "      <td>NaN</td>\n",
       "      <td>NaN</td>\n",
       "    </tr>\n",
       "    <tr>\n",
       "      <th>68013</th>\n",
       "      <td>d005</td>\n",
       "      <td>255111</td>\n",
       "      <td>1958-09-19</td>\n",
       "      <td>Billie</td>\n",
       "      <td>Honiden</td>\n",
       "      <td>M</td>\n",
       "      <td>1996-10-10</td>\n",
       "      <td>1996-10-10</td>\n",
       "      <td>9999-01-01</td>\n",
       "      <td>Development</td>\n",
       "      <td>NaN</td>\n",
       "      <td>NaN</td>\n",
       "    </tr>\n",
       "    <tr>\n",
       "      <th>178033</th>\n",
       "      <td>d004</td>\n",
       "      <td>64310</td>\n",
       "      <td>1953-05-18</td>\n",
       "      <td>Khatoun</td>\n",
       "      <td>Kossowski</td>\n",
       "      <td>M</td>\n",
       "      <td>1985-02-17</td>\n",
       "      <td>1992-08-13</td>\n",
       "      <td>9999-01-01</td>\n",
       "      <td>Production</td>\n",
       "      <td>NaN</td>\n",
       "      <td>NaN</td>\n",
       "    </tr>\n",
       "    <tr>\n",
       "      <th>38835</th>\n",
       "      <td>d005</td>\n",
       "      <td>63473</td>\n",
       "      <td>1958-04-19</td>\n",
       "      <td>Shim</td>\n",
       "      <td>Gyorkos</td>\n",
       "      <td>F</td>\n",
       "      <td>1986-07-12</td>\n",
       "      <td>2001-03-06</td>\n",
       "      <td>9999-01-01</td>\n",
       "      <td>Development</td>\n",
       "      <td>NaN</td>\n",
       "      <td>NaN</td>\n",
       "    </tr>\n",
       "    <tr>\n",
       "      <th>195278</th>\n",
       "      <td>d004</td>\n",
       "      <td>224950</td>\n",
       "      <td>1961-05-12</td>\n",
       "      <td>Marl</td>\n",
       "      <td>Kohling</td>\n",
       "      <td>F</td>\n",
       "      <td>1994-08-30</td>\n",
       "      <td>1996-03-31</td>\n",
       "      <td>2001-09-28</td>\n",
       "      <td>Production</td>\n",
       "      <td>NaN</td>\n",
       "      <td>NaN</td>\n",
       "    </tr>\n",
       "    <tr>\n",
       "      <th>267926</th>\n",
       "      <td>d008</td>\n",
       "      <td>238294</td>\n",
       "      <td>1963-10-06</td>\n",
       "      <td>Tokuyasu</td>\n",
       "      <td>Peral</td>\n",
       "      <td>F</td>\n",
       "      <td>1990-03-21</td>\n",
       "      <td>1996-01-26</td>\n",
       "      <td>2002-05-01</td>\n",
       "      <td>Research</td>\n",
       "      <td>NaN</td>\n",
       "      <td>NaN</td>\n",
       "    </tr>\n",
       "    <tr>\n",
       "      <th>179652</th>\n",
       "      <td>d004</td>\n",
       "      <td>71009</td>\n",
       "      <td>1952-07-12</td>\n",
       "      <td>Keung</td>\n",
       "      <td>Zaccaria</td>\n",
       "      <td>M</td>\n",
       "      <td>1987-04-25</td>\n",
       "      <td>1987-04-25</td>\n",
       "      <td>1988-04-27</td>\n",
       "      <td>Production</td>\n",
       "      <td>NaN</td>\n",
       "      <td>NaN</td>\n",
       "    </tr>\n",
       "    <tr>\n",
       "      <th>198960</th>\n",
       "      <td>d004</td>\n",
       "      <td>240483</td>\n",
       "      <td>1954-02-08</td>\n",
       "      <td>Geoff</td>\n",
       "      <td>Zultner</td>\n",
       "      <td>M</td>\n",
       "      <td>1996-02-20</td>\n",
       "      <td>1999-03-08</td>\n",
       "      <td>9999-01-01</td>\n",
       "      <td>Production</td>\n",
       "      <td>NaN</td>\n",
       "      <td>NaN</td>\n",
       "    </tr>\n",
       "  </tbody>\n",
       "</table>\n",
       "</div>"
      ],
      "text/plain": [
       "       dept_no_x  emp_no  birth_date first_name  last_name gender   hire_date  \\\n",
       "39006       d005   64069  1963-11-01  Nectarios    Borovoy      M  1993-01-02   \n",
       "16416       d009  409860  1964-10-16       Aris    Desikan      F  1987-08-20   \n",
       "329010      d007  484882  1960-03-06    Pradeep      Coney      F  1986-08-06   \n",
       "68013       d005  255111  1958-09-19     Billie    Honiden      M  1996-10-10   \n",
       "178033      d004   64310  1953-05-18    Khatoun  Kossowski      M  1985-02-17   \n",
       "38835       d005   63473  1958-04-19       Shim    Gyorkos      F  1986-07-12   \n",
       "195278      d004  224950  1961-05-12       Marl    Kohling      F  1994-08-30   \n",
       "267926      d008  238294  1963-10-06   Tokuyasu      Peral      F  1990-03-21   \n",
       "179652      d004   71009  1952-07-12      Keung   Zaccaria      M  1987-04-25   \n",
       "198960      d004  240483  1954-02-08      Geoff    Zultner      M  1996-02-20   \n",
       "\n",
       "       dept_from_date dept_to_date         dept_name mgr_from_date mgr_to_date  \n",
       "39006      1993-01-02   9999-01-01       Development           NaN         NaN  \n",
       "16416      2001-07-08   9999-01-01  Customer Service           NaN         NaN  \n",
       "329010     1987-12-11   9999-01-01             Sales           NaN         NaN  \n",
       "68013      1996-10-10   9999-01-01       Development           NaN         NaN  \n",
       "178033     1992-08-13   9999-01-01        Production           NaN         NaN  \n",
       "38835      2001-03-06   9999-01-01       Development           NaN         NaN  \n",
       "195278     1996-03-31   2001-09-28        Production           NaN         NaN  \n",
       "267926     1996-01-26   2002-05-01          Research           NaN         NaN  \n",
       "179652     1987-04-25   1988-04-27        Production           NaN         NaN  \n",
       "198960     1999-03-08   9999-01-01        Production           NaN         NaN  "
      ]
     },
     "execution_count": 60,
     "metadata": {},
     "output_type": "execute_result"
    }
   ],
   "source": [
    "# Do some cleanup\n",
    "emp_manager = emp_manager.rename(columns={\n",
    "    'from_date_x':'dept_from_date',\n",
    "    'from_date_y':'mgr_from_date',\n",
    "    'to_date_x':'dept_to_date',\n",
    "    'to_date_y':'mgr_to_date',\n",
    "})\n",
    "\n",
    "emp_manager = emp_manager.drop(columns=['dept_no_y','is_mgr'],errors='ignore')\n",
    "emp_manager.sample(10)"
   ]
  },
  {
   "cell_type": "code",
   "execution_count": 62,
   "id": "f1d8f391-5fe4-4cee-8701-e6691a7b4a57",
   "metadata": {
    "tags": []
   },
   "outputs": [
    {
     "data": {
      "text/plain": [
       "has_been_mgr\n",
       "False    331579\n",
       "True         24\n",
       "Name: count, dtype: int64"
      ]
     },
     "execution_count": 62,
     "metadata": {},
     "output_type": "execute_result"
    }
   ],
   "source": [
    "emp_manager['has_been_mgr'] = np.where(emp_manager.mgr_to_date.isna(),False,True)\n",
    "emp_manager.has_been_mgr.value_counts()"
   ]
  },
  {
   "cell_type": "code",
   "execution_count": 64,
   "id": "9aea54c4-ec92-4b3f-af09-b8f70482cb26",
   "metadata": {
    "tags": []
   },
   "outputs": [
    {
     "data": {
      "text/html": [
       "<div>\n",
       "<style scoped>\n",
       "    .dataframe tbody tr th:only-of-type {\n",
       "        vertical-align: middle;\n",
       "    }\n",
       "\n",
       "    .dataframe tbody tr th {\n",
       "        vertical-align: top;\n",
       "    }\n",
       "\n",
       "    .dataframe thead th {\n",
       "        text-align: right;\n",
       "    }\n",
       "</style>\n",
       "<table border=\"1\" class=\"dataframe\">\n",
       "  <thead>\n",
       "    <tr style=\"text-align: right;\">\n",
       "      <th>has_been_mgr</th>\n",
       "      <th>False</th>\n",
       "      <th>True</th>\n",
       "    </tr>\n",
       "    <tr>\n",
       "      <th>gender</th>\n",
       "      <th></th>\n",
       "      <th></th>\n",
       "    </tr>\n",
       "  </thead>\n",
       "  <tbody>\n",
       "    <tr>\n",
       "      <th>F</th>\n",
       "      <td>132740</td>\n",
       "      <td>13</td>\n",
       "    </tr>\n",
       "    <tr>\n",
       "      <th>M</th>\n",
       "      <td>198839</td>\n",
       "      <td>11</td>\n",
       "    </tr>\n",
       "  </tbody>\n",
       "</table>\n",
       "</div>"
      ],
      "text/plain": [
       "has_been_mgr   False  True \n",
       "gender                     \n",
       "F             132740     13\n",
       "M             198839     11"
      ]
     },
     "execution_count": 64,
     "metadata": {},
     "output_type": "execute_result"
    }
   ],
   "source": [
    "observed = pd.crosstab(emp_manager.gender,emp_manager.has_been_mgr)\n",
    "observed"
   ]
  },
  {
   "cell_type": "code",
   "execution_count": 66,
   "id": "9e9d0e9d-01f4-4e6b-bd98-43008aa9742c",
   "metadata": {
    "tags": []
   },
   "outputs": [],
   "source": [
    "chi2,p,dof,expected = stats.chi2_contingency(observed)"
   ]
  },
  {
   "cell_type": "code",
   "execution_count": 68,
   "id": "ef9996ee-fb21-4f46-b82c-89d8cfaedf32",
   "metadata": {
    "tags": []
   },
   "outputs": [
    {
     "name": "stdout",
     "output_type": "stream",
     "text": [
      "We fail to reject the null hypothesis\n"
     ]
    }
   ],
   "source": [
    "if p < alpha:\n",
    "    print('We reject the null hypothesis')\n",
    "else:\n",
    "    print('We fail to reject the null hypothesis')"
   ]
  },
  {
   "cell_type": "markdown",
   "id": "92edf415-8d40-40b3-ba4d-4e3707f635f6",
   "metadata": {},
   "source": [
    "We conclude that there is no relationship between an employee's gender and whether they have or have not been a manager."
   ]
  },
  {
   "cell_type": "markdown",
   "id": "54a3b440-4f89-44f1-a469-c3fb8c2213c8",
   "metadata": {},
   "source": [
    "-----"
   ]
  },
  {
   "cell_type": "markdown",
   "id": "50999089-732a-4dd5-8800-2e82bc1b5723",
   "metadata": {},
   "source": [
    "## Correlations"
   ]
  },
  {
   "cell_type": "markdown",
   "id": "fde893b0-a973-42c5-a344-065488d0dfdf",
   "metadata": {},
   "source": [
    "1. Answer with the type of stats test you would use (assume normal distribution):"
   ]
  },
  {
   "cell_type": "code",
   "execution_count": null,
   "id": "9eeaa96a-31fa-4901-bad9-236ac71ed1ef",
   "metadata": {},
   "outputs": [],
   "source": []
  },
  {
   "cell_type": "markdown",
   "id": "9b25eddf-76ea-4d66-a415-9d93454f0ee7",
   "metadata": {},
   "source": [
    "- Is there a relationship between the length of your arm and the length of your foot?"
   ]
  },
  {
   "cell_type": "code",
   "execution_count": null,
   "id": "e372a457-9e9c-44a6-bcf8-246010b5fc60",
   "metadata": {},
   "outputs": [],
   "source": []
  },
  {
   "cell_type": "markdown",
   "id": "af0bb9aa-b68a-4799-9d62-ffe5b3dba7fc",
   "metadata": {},
   "source": [
    "- Does smoking affect when or not someone has lung cancer?"
   ]
  },
  {
   "cell_type": "code",
   "execution_count": null,
   "id": "4228a790-2485-4f20-bcc9-36ad9602fd8d",
   "metadata": {},
   "outputs": [],
   "source": []
  },
  {
   "cell_type": "markdown",
   "id": "2503500c-34f2-45de-b56a-4089e4a2fbf0",
   "metadata": {},
   "source": [
    "- Is gender independent of a person’s blood type?"
   ]
  },
  {
   "cell_type": "code",
   "execution_count": null,
   "id": "757db4ce-0761-4e01-b562-647d24ad3df9",
   "metadata": {},
   "outputs": [],
   "source": []
  },
  {
   "cell_type": "markdown",
   "id": "28c5ad73-7320-445f-84fd-837cbbf56b06",
   "metadata": {},
   "source": [
    "- Does whether or not a person has a cat or dog affect whether they live in an apartment?"
   ]
  },
  {
   "cell_type": "code",
   "execution_count": null,
   "id": "6eaea70d-8815-4f98-9f5f-acbd164dc408",
   "metadata": {},
   "outputs": [],
   "source": []
  },
  {
   "cell_type": "markdown",
   "id": "b6862164-0a85-451f-ab4e-ee94c0b2ad50",
   "metadata": {},
   "source": [
    "- Does the length of time of the lecture correlate with a student's grade?"
   ]
  },
  {
   "cell_type": "code",
   "execution_count": null,
   "id": "c771dabd-af8e-4f63-96db-054d3645befa",
   "metadata": {},
   "outputs": [],
   "source": []
  },
  {
   "cell_type": "markdown",
   "id": "b2924675-6dd3-4fd8-8969-030127e71d27",
   "metadata": {},
   "source": [
    "2. Use the `telco_churn` data."
   ]
  },
  {
   "cell_type": "code",
   "execution_count": null,
   "id": "6002c8ed-7e7d-4c67-b5fc-16ec587f59dd",
   "metadata": {},
   "outputs": [],
   "source": []
  },
  {
   "cell_type": "markdown",
   "id": "f57b1214-c5a5-45d2-98c0-b3c7cf3ed3fe",
   "metadata": {},
   "source": [
    "- Does tenure correlate with monthly charges?"
   ]
  },
  {
   "cell_type": "code",
   "execution_count": null,
   "id": "cac3b584-3ae2-4e45-a801-7b683a35d60c",
   "metadata": {},
   "outputs": [],
   "source": []
  },
  {
   "cell_type": "markdown",
   "id": "029f5d29-2e22-4ba4-9ecf-fcedc0cd3cdf",
   "metadata": {},
   "source": [
    "- Total charges?"
   ]
  },
  {
   "cell_type": "code",
   "execution_count": null,
   "id": "c1140735-823d-45a3-a078-ef989ee6e0b2",
   "metadata": {},
   "outputs": [],
   "source": []
  },
  {
   "cell_type": "markdown",
   "id": "940bf838-d02d-4128-8a9d-8e863fdf5698",
   "metadata": {},
   "source": [
    "- What happens if you control for phone and internet service?"
   ]
  },
  {
   "cell_type": "code",
   "execution_count": null,
   "id": "c3cb6a81-3a8d-440c-b71a-00a4f7438051",
   "metadata": {},
   "outputs": [],
   "source": []
  },
  {
   "cell_type": "markdown",
   "id": "ce7e7843-66a6-414b-9294-106bd6af168f",
   "metadata": {},
   "source": [
    "3. Use the `employees` database."
   ]
  },
  {
   "cell_type": "code",
   "execution_count": null,
   "id": "366548bb-86e0-4376-930b-e1c9d9f4b648",
   "metadata": {},
   "outputs": [],
   "source": []
  },
  {
   "cell_type": "markdown",
   "id": "2f0ffa71-1634-4931-89c8-0b43af7ff84f",
   "metadata": {},
   "source": [
    "- Is there a relationship between how long an employee has been with the company and their salary?"
   ]
  },
  {
   "cell_type": "code",
   "execution_count": null,
   "id": "645a664d-3bd6-465f-91e1-2c5a0d550a37",
   "metadata": {},
   "outputs": [],
   "source": []
  },
  {
   "cell_type": "markdown",
   "id": "062d96eb-40b8-4d82-86dc-cde0c5aa8202",
   "metadata": {},
   "source": [
    "- Is there a relationship between how long an employee has been with the company and the number of titles they have had?"
   ]
  },
  {
   "cell_type": "code",
   "execution_count": null,
   "id": "3a75cb45-0fc9-46e3-b56f-8c5910731d05",
   "metadata": {},
   "outputs": [],
   "source": []
  },
  {
   "cell_type": "markdown",
   "id": "4f6c8aea-e45e-47d3-b3f7-3792d8765731",
   "metadata": {},
   "source": [
    "4. Use the `sleepstudy` data."
   ]
  },
  {
   "cell_type": "code",
   "execution_count": null,
   "id": "cca1f23b-6f48-4c3b-a9da-0b58c7cb9009",
   "metadata": {},
   "outputs": [],
   "source": []
  },
  {
   "cell_type": "markdown",
   "id": "78310434-6361-47a7-b2e4-8ff519ea5be2",
   "metadata": {},
   "source": [
    "- Is there a relationship between days and reaction time?"
   ]
  },
  {
   "cell_type": "code",
   "execution_count": null,
   "id": "702302bf-11d2-4cb8-809f-dad5fe601be6",
   "metadata": {},
   "outputs": [],
   "source": []
  }
 ],
 "metadata": {
  "kernelspec": {
   "display_name": "Python 3 (ipykernel)",
   "language": "python",
   "name": "python3"
  },
  "language_info": {
   "codemirror_mode": {
    "name": "ipython",
    "version": 3
   },
   "file_extension": ".py",
   "mimetype": "text/x-python",
   "name": "python",
   "nbconvert_exporter": "python",
   "pygments_lexer": "ipython3",
   "version": "3.11.5"
  }
 },
 "nbformat": 4,
 "nbformat_minor": 5
}
