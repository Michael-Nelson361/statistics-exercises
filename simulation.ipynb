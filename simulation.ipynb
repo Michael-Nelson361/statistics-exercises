{
 "cells": [
  {
   "cell_type": "markdown",
   "id": "f64ecb18-b01c-4a35-b633-0e6fa9799809",
   "metadata": {},
   "source": [
    "Do your work for this exercise in either a python file named `simulation.py` or a jupyter notebook named `simulation.ipynb`."
   ]
  },
  {
   "cell_type": "code",
   "execution_count": 188,
   "id": "fc305a7a-843f-4216-9752-300ca5c8e647",
   "metadata": {
    "tags": []
   },
   "outputs": [],
   "source": [
    "# Import libraries\n",
    "import numpy as np\n",
    "import pandas as pd\n",
    "\n",
    "# Set up overall conditions\n",
    "np.random.seed(123)\n",
    "n_trials = 100_000"
   ]
  },
  {
   "cell_type": "markdown",
   "id": "028b9c00-d295-4ad9-90d5-b18c71351892",
   "metadata": {},
   "source": [
    "1. How likely is it that you roll doubles when rolling two dice?"
   ]
  },
  {
   "cell_type": "code",
   "execution_count": 102,
   "id": "773147fd-8887-4ad7-a8c5-dfd3d0519e28",
   "metadata": {
    "tags": []
   },
   "outputs": [],
   "source": [
    "# set up individual variables for our test\n",
    "outcomes = list(range(1,7))\n",
    "n_dice = 2"
   ]
  },
  {
   "cell_type": "code",
   "execution_count": 104,
   "id": "4987ccc1-d4c3-4929-8ae2-c31fc6fdb4bc",
   "metadata": {
    "tags": []
   },
   "outputs": [
    {
     "data": {
      "text/plain": [
       "array([[6, 3],\n",
       "       [5, 3],\n",
       "       [2, 4],\n",
       "       [3, 4],\n",
       "       [2, 2],\n",
       "       [1, 2],\n",
       "       [2, 1],\n",
       "       [1, 2],\n",
       "       [4, 6],\n",
       "       [5, 1]])"
      ]
     },
     "execution_count": 104,
     "metadata": {},
     "output_type": "execute_result"
    }
   ],
   "source": [
    "rolls = np.random.choice(outcomes,(n_trials,n_dice))\n",
    "rolls[:10]"
   ]
  },
  {
   "cell_type": "code",
   "execution_count": 106,
   "id": "51e38973-97be-44f3-b40c-34a9f344efb9",
   "metadata": {
    "tags": []
   },
   "outputs": [
    {
     "data": {
      "text/plain": [
       "0.16497"
      ]
     },
     "execution_count": 106,
     "metadata": {},
     "output_type": "execute_result"
    }
   ],
   "source": [
    "# Determine if roll 1 is also roll 2\n",
    "(rolls[:,0] == rolls[:,1]).sum() / len(rolls)"
   ]
  },
  {
   "cell_type": "markdown",
   "id": "beee4071-4629-4757-9714-2538269e342d",
   "metadata": {},
   "source": [
    "2. If you flip 8 coins, what is the probability of getting exactly 3 heads? What is the probability of getting more than 3 heads?"
   ]
  },
  {
   "cell_type": "code",
   "execution_count": 110,
   "id": "e8aa4e3d-b069-401c-93df-18d234eac164",
   "metadata": {
    "tags": []
   },
   "outputs": [
    {
     "data": {
      "text/plain": [
       "array([['T', 'T', 'H', 'H', 'H', 'T', 'T', 'H'],\n",
       "       ['H', 'H', 'T', 'T', 'H', 'H', 'H', 'H'],\n",
       "       ['H', 'H', 'T', 'T', 'T', 'H', 'H', 'H'],\n",
       "       ['H', 'H', 'T', 'H', 'T', 'H', 'H', 'T'],\n",
       "       ['H', 'H', 'H', 'H', 'T', 'H', 'H', 'H'],\n",
       "       ['H', 'H', 'H', 'H', 'T', 'T', 'H', 'T'],\n",
       "       ['H', 'T', 'T', 'T', 'T', 'H', 'H', 'T'],\n",
       "       ['H', 'T', 'T', 'H', 'H', 'H', 'T', 'H'],\n",
       "       ['H', 'H', 'H', 'T', 'H', 'H', 'H', 'T'],\n",
       "       ['T', 'T', 'T', 'T', 'T', 'T', 'T', 'T']], dtype='<U1')"
      ]
     },
     "execution_count": 110,
     "metadata": {},
     "output_type": "execute_result"
    }
   ],
   "source": [
    "# Adjust outcomes and set number of coins\n",
    "outcomes = ['H','T']\n",
    "n_coins = 8\n",
    "\n",
    "# Create number of trials\n",
    "flips = np.random.choice(outcomes,(n_trials,n_coins))\n",
    "flips[:10]"
   ]
  },
  {
   "cell_type": "code",
   "execution_count": 120,
   "id": "67089615-7899-4a02-acfc-02dd35a16237",
   "metadata": {
    "tags": []
   },
   "outputs": [
    {
     "data": {
      "text/plain": [
       "0.22152"
      ]
     },
     "execution_count": 120,
     "metadata": {},
     "output_type": "execute_result"
    }
   ],
   "source": [
    "# Determine probability of exactly 3 heads\n",
    "\n",
    "# First turn each flip into a boolean to check for heads, then get the row summary\n",
    "# Then if the row summary is equal to 3, sum that new boolean and divide by length of flips\n",
    "# to get final probability\n",
    "((flips == 'H').sum(axis=1) == 3).sum() / len(flips)"
   ]
  },
  {
   "cell_type": "markdown",
   "id": "47cbd31d-7ea6-4717-9038-403637318272",
   "metadata": {},
   "source": [
    "3. There are approximitely 3 web development cohorts for every 1 data science cohort at Codeup. Assuming that Codeup randomly selects an alumni to put on a billboard, what are the odds that the two billboards I drive past both have data science students on them?"
   ]
  },
  {
   "cell_type": "code",
   "execution_count": 127,
   "id": "285a796c-7f19-47fa-aac6-01e2b0dc8a74",
   "metadata": {
    "tags": []
   },
   "outputs": [
    {
     "data": {
      "text/plain": [
       "0.0625"
      ]
     },
     "execution_count": 127,
     "metadata": {},
     "output_type": "execute_result"
    }
   ],
   "source": [
    "# 3 web dev to 1 data science = 1/4th classes is a DS class\n",
    "# So it'll be something along the lines of 1/4 classes times 1/4\n",
    "# So our answer should look something like 1/16\n",
    "1/16"
   ]
  },
  {
   "cell_type": "code",
   "execution_count": 133,
   "id": "8af187c8-8157-431e-8402-e3385a0156f4",
   "metadata": {
    "tags": []
   },
   "outputs": [
    {
     "data": {
      "text/plain": [
       "array([['WD', 'WD'],\n",
       "       ['DS', 'DS'],\n",
       "       ['WD', 'DS'],\n",
       "       ['DS', 'DS'],\n",
       "       ['WD', 'WD'],\n",
       "       ['WD', 'WD'],\n",
       "       ['WD', 'WD'],\n",
       "       ['WD', 'WD'],\n",
       "       ['WD', 'WD'],\n",
       "       ['WD', 'WD']], dtype='<U2')"
      ]
     },
     "execution_count": 133,
     "metadata": {},
     "output_type": "execute_result"
    }
   ],
   "source": [
    "outcomes = ['DS','WD','WD','WD']\n",
    "n_boards = 2\n",
    "\n",
    "billboards = np.random.choice(outcomes,(n_trials,n_boards))\n",
    "billboards[:10]"
   ]
  },
  {
   "cell_type": "code",
   "execution_count": 156,
   "id": "d6bcb520-6db2-42bb-9603-eaf3a6af993b",
   "metadata": {
    "tags": []
   },
   "outputs": [
    {
     "data": {
      "text/plain": [
       "0.06212"
      ]
     },
     "execution_count": 156,
     "metadata": {},
     "output_type": "execute_result"
    }
   ],
   "source": [
    "# Create test condition against 'DS' for Data Science\n",
    "# Sum across rows\n",
    "# If the sum total equals 2, then 'DS' is on both billboards (turn that into a boolean)\n",
    "# Then get the sum of booleans divided by length of billboards\n",
    "((billboards == 'DS').sum(axis=1) == 2).sum() / len(billboards)"
   ]
  },
  {
   "cell_type": "code",
   "execution_count": 158,
   "id": "905e401c-6fb7-47c3-8401-e09325089ea8",
   "metadata": {
    "tags": []
   },
   "outputs": [
    {
     "data": {
      "text/plain": [
       "0.06212"
      ]
     },
     "execution_count": 158,
     "metadata": {},
     "output_type": "execute_result"
    }
   ],
   "source": [
    "# Try this with mean\n",
    "((billboards == 'DS').sum(axis=1) == 2).mean()"
   ]
  },
  {
   "cell_type": "code",
   "execution_count": null,
   "id": "6bce90ba-4c51-4401-8d2b-b46f8c151414",
   "metadata": {},
   "outputs": [],
   "source": [
    "# And 0.06212 is approximately correct to the odds we expect to see"
   ]
  },
  {
   "cell_type": "markdown",
   "id": "328820bb-61c7-45ba-ae8d-bf89fb5bfab0",
   "metadata": {},
   "source": [
    "4. Codeup students buy, on average, 3 poptart packages with a standard deviation of 1.5 a day from the snack vending machine. If on monday the machine is restocked with 17 poptart packages, how likely is it that I will be able to buy some poptarts on Friday afternoon? (Remember, if you have mean and standard deviation, use the `np.random.normal`) *You'll need to make a judgement call on how to handle some of your values*"
   ]
  },
  {
   "cell_type": "code",
   "execution_count": 192,
   "id": "7044fad5-e4e4-4de8-9b10-cda2002bfac9",
   "metadata": {
    "tags": []
   },
   "outputs": [
    {
     "data": {
      "text/plain": [
       "array([[ 3.07773146,  0.65626657,  1.86210717,  3.24590125,  4.18061113],\n",
       "       [ 0.56605668,  1.74638906,  6.79136252,  3.1698458 ,  0.13291953],\n",
       "       [ 3.35087413,  0.25321737,  1.72008744,  2.29887107,  4.31741925],\n",
       "       [ 6.96537427,  3.53455376,  1.23820404,  2.99731588,  3.30946528],\n",
       "       [ 3.91808216,  1.93849376,  1.57687312,  4.07433203,  3.35246141],\n",
       "       [ 4.59303919,  1.74392394,  3.18490786,  4.54681148,  2.31749471],\n",
       "       [ 2.40841791,  2.67111966,  3.03199666,  3.13452285,  2.87715141],\n",
       "       [ 4.30817539,  2.80135622,  1.06647321,  2.93235346,  3.32213679],\n",
       "       [ 5.42112318,  3.61702991,  5.77081748,  4.20070418, -1.14084306],\n",
       "       [ 5.26588364,  2.64550824,  5.85830903,  4.21287266,  3.37364689]])"
      ]
     },
     "execution_count": 192,
     "metadata": {},
     "output_type": "execute_result"
    }
   ],
   "source": [
    "# Get an idea of using np.random.normal, and once familiarized, set that to a variable\n",
    "daily_poptarts = np.random.normal(loc=3.0,scale=1.5,size=(n_trials,5))\n",
    "daily_poptarts[:10]"
   ]
  },
  {
   "cell_type": "code",
   "execution_count": 196,
   "id": "8535683f-1279-4623-b963-9fb0807f3d97",
   "metadata": {
    "tags": []
   },
   "outputs": [
    {
     "data": {
      "text/plain": [
       "array([ 3.97738241,  4.59342642,  5.05953073, -1.04491323,  2.13975752,\n",
       "        0.61382281,  2.87679152,  2.56950492, -0.86883169, -4.35622046])"
      ]
     },
     "execution_count": 196,
     "metadata": {},
     "output_type": "execute_result"
    }
   ],
   "source": [
    "# Making some assumptions here, but summing each row then subtracting that sum\n",
    "# from 17 (for initial starting value) should yield approximately how many packages are left\n",
    "# on Friday afternoon/evening\n",
    "end_consumption = 17 - daily_poptarts.sum(axis=1)\n",
    "end_consumption[:10]"
   ]
  },
  {
   "cell_type": "code",
   "execution_count": 202,
   "id": "0f7dab44-d8ba-45cf-8ef8-e28af21893ed",
   "metadata": {
    "tags": []
   },
   "outputs": [
    {
     "data": {
      "text/plain": [
       "0.61677"
      ]
     },
     "execution_count": 202,
     "metadata": {},
     "output_type": "execute_result"
    }
   ],
   "source": [
    "# Can't buy less than 1 package, so compare each value against 1\n",
    "# Then get the mean of those booleans\n",
    "(end_consumption > 1).mean()"
   ]
  },
  {
   "cell_type": "code",
   "execution_count": 277,
   "id": "eb54568b-5c25-4872-ae92-c42c45d77c48",
   "metadata": {
    "tags": []
   },
   "outputs": [
    {
     "data": {
      "text/plain": [
       "0.62"
      ]
     },
     "execution_count": 277,
     "metadata": {},
     "output_type": "execute_result"
    }
   ],
   "source": [
    "# Try altogether now\n",
    "daily_poptarts = np.random.normal(loc=3.0,scale=1.5,size=(n_trials,5))\n",
    "end_consumption = 17 - daily_poptarts.sum(axis=1)\n",
    "(end_consumption > 1).mean().round(2)\n",
    "\n",
    "# End value tends to be about 0.62, rounded"
   ]
  },
  {
   "cell_type": "markdown",
   "id": "1c6878fd-0577-46d6-bff1-b7aaced4065d",
   "metadata": {},
   "source": [
    "5. Compare Heights"
   ]
  },
  {
   "cell_type": "markdown",
   "id": "cbaa6933-e97d-4b80-bd2f-4d22ed01b1ba",
   "metadata": {},
   "source": [
    "- Men have an average height of 178 cm and standard deviation of 8cm."
   ]
  },
  {
   "cell_type": "code",
   "execution_count": 312,
   "id": "5cb5f88d-c33e-4169-ae2f-ac77d519d947",
   "metadata": {
    "tags": []
   },
   "outputs": [
    {
     "data": {
      "text/plain": [
       "array([179.13153748, 162.28398036, 175.17029114, 177.83020192,\n",
       "       185.41059715, 173.63605388, 180.43760246, 171.37571194,\n",
       "       170.77512469, 180.26629534])"
      ]
     },
     "execution_count": 312,
     "metadata": {},
     "output_type": "execute_result"
    }
   ],
   "source": [
    "# Establish male height and std\n",
    "m_ht = 178\n",
    "m_sd = 8\n",
    "\n",
    "# make the array of male heights\n",
    "m_heights = np.random.normal(m_ht,m_sd,(n_trials))\n",
    "m_heights[:10]"
   ]
  },
  {
   "cell_type": "markdown",
   "id": "0c6e13eb-7cc0-42ed-8500-a8a760180c27",
   "metadata": {},
   "source": [
    "- Women have a mean of 170, sd = 6cm."
   ]
  },
  {
   "cell_type": "code",
   "execution_count": 314,
   "id": "d881402a-7be7-4762-ad81-85f74aa0455f",
   "metadata": {
    "tags": []
   },
   "outputs": [
    {
     "data": {
      "text/plain": [
       "array([177.33026046, 181.44317169, 174.23524626, 169.88532839,\n",
       "       171.4964751 , 162.03689301, 165.90765545, 162.17987297,\n",
       "       168.38113977, 178.04107534])"
      ]
     },
     "execution_count": 314,
     "metadata": {},
     "output_type": "execute_result"
    }
   ],
   "source": [
    "# Establish female height and std\n",
    "f_ht = 170\n",
    "f_sd = 6\n",
    "\n",
    "# make the array of female heights\n",
    "f_heights = np.random.normal(f_ht,f_sd,(n_trials))\n",
    "f_heights[:10]"
   ]
  },
  {
   "cell_type": "markdown",
   "id": "3f9907ac-f69c-4047-a668-2d521e55feb6",
   "metadata": {},
   "source": [
    "- Since you have means and standard deviations, you can use `np.random.normal` to generate observations."
   ]
  },
  {
   "cell_type": "code",
   "execution_count": 354,
   "id": "316d6860-4c2f-486f-a914-839ea72c447f",
   "metadata": {
    "tags": []
   },
   "outputs": [
    {
     "data": {
      "text/html": [
       "<div>\n",
       "<style scoped>\n",
       "    .dataframe tbody tr th:only-of-type {\n",
       "        vertical-align: middle;\n",
       "    }\n",
       "\n",
       "    .dataframe tbody tr th {\n",
       "        vertical-align: top;\n",
       "    }\n",
       "\n",
       "    .dataframe thead th {\n",
       "        text-align: right;\n",
       "    }\n",
       "</style>\n",
       "<table border=\"1\" class=\"dataframe\">\n",
       "  <thead>\n",
       "    <tr style=\"text-align: right;\">\n",
       "      <th></th>\n",
       "      <th>male_height</th>\n",
       "      <th>female_height</th>\n",
       "    </tr>\n",
       "  </thead>\n",
       "  <tbody>\n",
       "    <tr>\n",
       "      <th>count</th>\n",
       "      <td>100000.0</td>\n",
       "      <td>100000.0</td>\n",
       "    </tr>\n",
       "    <tr>\n",
       "      <th>mean</th>\n",
       "      <td>178.0</td>\n",
       "      <td>170.0</td>\n",
       "    </tr>\n",
       "    <tr>\n",
       "      <th>std</th>\n",
       "      <td>8.0</td>\n",
       "      <td>6.0</td>\n",
       "    </tr>\n",
       "    <tr>\n",
       "      <th>min</th>\n",
       "      <td>145.0</td>\n",
       "      <td>141.0</td>\n",
       "    </tr>\n",
       "    <tr>\n",
       "      <th>25%</th>\n",
       "      <td>173.0</td>\n",
       "      <td>166.0</td>\n",
       "    </tr>\n",
       "    <tr>\n",
       "      <th>50%</th>\n",
       "      <td>178.0</td>\n",
       "      <td>170.0</td>\n",
       "    </tr>\n",
       "    <tr>\n",
       "      <th>75%</th>\n",
       "      <td>183.0</td>\n",
       "      <td>174.0</td>\n",
       "    </tr>\n",
       "    <tr>\n",
       "      <th>max</th>\n",
       "      <td>214.0</td>\n",
       "      <td>195.0</td>\n",
       "    </tr>\n",
       "  </tbody>\n",
       "</table>\n",
       "</div>"
      ],
      "text/plain": [
       "       male_height  female_height\n",
       "count     100000.0       100000.0\n",
       "mean         178.0          170.0\n",
       "std            8.0            6.0\n",
       "min          145.0          141.0\n",
       "25%          173.0          166.0\n",
       "50%          178.0          170.0\n",
       "75%          183.0          174.0\n",
       "max          214.0          195.0"
      ]
     },
     "execution_count": 354,
     "metadata": {},
     "output_type": "execute_result"
    }
   ],
   "source": [
    "# Establish a DataFrame to hold randomized comparisons\n",
    "# Dataframe not necessary, but it makes things easier\n",
    "\n",
    "heights = pd.DataFrame(\n",
    "    {\n",
    "        'male_height':np.random.choice(m_heights,(n_trials)),\n",
    "        'female_height':np.random.choice(f_heights,(n_trials))\n",
    "    }\n",
    ")\n",
    "\n",
    "heights.describe().round()"
   ]
  },
  {
   "cell_type": "markdown",
   "id": "1997360d-8973-447e-8307-6b554f36b842",
   "metadata": {},
   "source": [
    "- If a man and woman are chosen at random, what is the likelihood the woman is taller than the man?"
   ]
  },
  {
   "cell_type": "code",
   "execution_count": 349,
   "id": "48a1b0e7-dcb4-40fa-8a5a-970d6ec06b11",
   "metadata": {
    "tags": []
   },
   "outputs": [
    {
     "data": {
      "text/plain": [
       "0.20929"
      ]
     },
     "execution_count": 349,
     "metadata": {},
     "output_type": "execute_result"
    }
   ],
   "source": [
    "# Simple boolean comparison and voila, we have our probability!\n",
    "(heights.female_height > heights.male_height).mean()"
   ]
  },
  {
   "cell_type": "markdown",
   "id": "0678afa6-5eaa-4eb5-b335-b3cd98eb5758",
   "metadata": {},
   "source": [
    "6. When installing anaconda on a student's computer, there's a 1 in 250 chance that the download is corrupted and the installation fails. What are the odds that after having 50 students download anaconda, no one has an installation issue? 100 students?"
   ]
  },
  {
   "cell_type": "code",
   "execution_count": null,
   "id": "6f2f65da-6d20-4add-ae2d-288e2baf7a15",
   "metadata": {},
   "outputs": [],
   "source": [
    "download_fail = 1/250"
   ]
  },
  {
   "cell_type": "markdown",
   "id": "4483d199-1318-4a98-9dac-12ce76bf2248",
   "metadata": {},
   "source": [
    "    What is the probability that we observe an installation issue within the first 150 students that download anaconda?"
   ]
  },
  {
   "cell_type": "markdown",
   "id": "23ca86cb-bfcc-49d9-9870-1ee29361dcf4",
   "metadata": {},
   "source": [
    "    How likely is it that 450 students all download anaconda without an issue?"
   ]
  },
  {
   "cell_type": "markdown",
   "id": "e6c2a565-5235-4f69-b3d6-5593ee11ef56",
   "metadata": {},
   "source": [
    "7. There's a 70% chance on any given day that there will be at least one food truck at Travis Park. However, you haven't seen a food truck there in 3 days. How unlikely is this?"
   ]
  },
  {
   "cell_type": "markdown",
   "id": "363cc47c-b384-4128-ad5e-777e7260da07",
   "metadata": {},
   "source": [
    "    How likely is it that a food truck will show up sometime this week?"
   ]
  },
  {
   "cell_type": "markdown",
   "id": "41d89cc2-28c0-4625-8254-8c8458e669b4",
   "metadata": {},
   "source": [
    "8. If 23 people are in the same room, what are the odds that two of them share a birthday? What if it's 20 people? 40?"
   ]
  },
  {
   "cell_type": "code",
   "execution_count": null,
   "id": "a1c4e11a-13aa-449f-8ff0-0410c6c0523b",
   "metadata": {},
   "outputs": [],
   "source": []
  }
 ],
 "metadata": {
  "kernelspec": {
   "display_name": "Python 3 (ipykernel)",
   "language": "python",
   "name": "python3"
  },
  "language_info": {
   "codemirror_mode": {
    "name": "ipython",
    "version": 3
   },
   "file_extension": ".py",
   "mimetype": "text/x-python",
   "name": "python",
   "nbconvert_exporter": "python",
   "pygments_lexer": "ipython3",
   "version": "3.11.5"
  }
 },
 "nbformat": 4,
 "nbformat_minor": 5
}
