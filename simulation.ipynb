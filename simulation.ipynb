{
 "cells": [
  {
   "cell_type": "markdown",
   "id": "f64ecb18-b01c-4a35-b633-0e6fa9799809",
   "metadata": {},
   "source": [
    "Do your work for this exercise in either a python file named `simulation.py` or a jupyter notebook named `simulation.ipynb`."
   ]
  },
  {
   "cell_type": "code",
   "execution_count": 29,
   "id": "fc305a7a-843f-4216-9752-300ca5c8e647",
   "metadata": {
    "tags": []
   },
   "outputs": [],
   "source": [
    "# Import libraries\n",
    "import numpy as np\n",
    "import pandas as pd\n",
    "\n",
    "# Set up overall conditions\n",
    "np.random.seed(123)\n",
    "n_trials = 10_000"
   ]
  },
  {
   "cell_type": "markdown",
   "id": "028b9c00-d295-4ad9-90d5-b18c71351892",
   "metadata": {},
   "source": [
    "1. How likely is it that you roll doubles when rolling two dice?"
   ]
  },
  {
   "cell_type": "code",
   "execution_count": 68,
   "id": "773147fd-8887-4ad7-a8c5-dfd3d0519e28",
   "metadata": {
    "tags": []
   },
   "outputs": [],
   "source": [
    "# set up individual variables for our test\n",
    "outcomes = list(range(1,7))\n",
    "n_dice = 2"
   ]
  },
  {
   "cell_type": "code",
   "execution_count": 45,
   "id": "4987ccc1-d4c3-4929-8ae2-c31fc6fdb4bc",
   "metadata": {
    "tags": []
   },
   "outputs": [],
   "source": [
    "rolls = np.random.choice(outcomes,(n_trials,n_dice))"
   ]
  },
  {
   "cell_type": "code",
   "execution_count": 65,
   "id": "51e38973-97be-44f3-b40c-34a9f344efb9",
   "metadata": {
    "tags": []
   },
   "outputs": [
    {
     "data": {
      "text/plain": [
       "array([[1, 6],\n",
       "       [1, 5],\n",
       "       [6, 6],\n",
       "       [2, 5],\n",
       "       [3, 4],\n",
       "       [2, 1],\n",
       "       [2, 1],\n",
       "       [5, 2],\n",
       "       [3, 5],\n",
       "       [4, 1]])"
      ]
     },
     "execution_count": 65,
     "metadata": {},
     "output_type": "execute_result"
    }
   ],
   "source": [
    "rolls[:10]"
   ]
  },
  {
   "cell_type": "markdown",
   "id": "beee4071-4629-4757-9714-2538269e342d",
   "metadata": {},
   "source": [
    "2. If you flip 8 coins, what is the probability of getting exactly 3 heads? What is the probability of getting more than 3 heads?"
   ]
  },
  {
   "cell_type": "markdown",
   "id": "47cbd31d-7ea6-4717-9038-403637318272",
   "metadata": {},
   "source": [
    "3. There are approximitely 3 web development cohorts for every 1 data science cohort at Codeup. Assuming that Codeup randomly selects an alumni to put on a billboard, what are the odds that the two billboards I drive past both have data science students on them?"
   ]
  },
  {
   "cell_type": "markdown",
   "id": "328820bb-61c7-45ba-ae8d-bf89fb5bfab0",
   "metadata": {},
   "source": [
    "4. Codeup students buy, on average, 3 poptart packages with a standard deviation of 1.5 a day from the snack vending machine. If on monday the machine is restocked with 17 poptart packages, how likely is it that I will be able to buy some poptarts on Friday afternoon? (Remember, if you have mean and standard deviation, use the `np.random.normal`) *You'll need to make a judgement call on how to handle some of your values*"
   ]
  },
  {
   "cell_type": "markdown",
   "id": "1c6878fd-0577-46d6-bff1-b7aaced4065d",
   "metadata": {},
   "source": [
    "5. Compare Heights"
   ]
  },
  {
   "cell_type": "markdown",
   "id": "cbaa6933-e97d-4b80-bd2f-4d22ed01b1ba",
   "metadata": {},
   "source": [
    "- Men have an average height of 178 cm and standard deviation of 8cm."
   ]
  },
  {
   "cell_type": "markdown",
   "id": "0c6e13eb-7cc0-42ed-8500-a8a760180c27",
   "metadata": {},
   "source": [
    "- Women have a mean of 170, sd = 6cm."
   ]
  },
  {
   "cell_type": "markdown",
   "id": "3f9907ac-f69c-4047-a668-2d521e55feb6",
   "metadata": {},
   "source": [
    "- Since you have means and standard deviations, you can use `np.random.normal` to generate observations."
   ]
  },
  {
   "cell_type": "markdown",
   "id": "1997360d-8973-447e-8307-6b554f36b842",
   "metadata": {},
   "source": [
    "- If a man and woman are chosen at random, what is the likelihood the woman is taller than the man?"
   ]
  },
  {
   "cell_type": "markdown",
   "id": "0678afa6-5eaa-4eb5-b335-b3cd98eb5758",
   "metadata": {},
   "source": [
    "6. When installing anaconda on a student's computer, there's a 1 in 250 chance that the download is corrupted and the installation fails. What are the odds that after having 50 students download anaconda, no one has an installation issue? 100 students?"
   ]
  },
  {
   "cell_type": "markdown",
   "id": "4483d199-1318-4a98-9dac-12ce76bf2248",
   "metadata": {},
   "source": [
    "    What is the probability that we observe an installation issue within the first 150 students that download anaconda?"
   ]
  },
  {
   "cell_type": "markdown",
   "id": "23ca86cb-bfcc-49d9-9870-1ee29361dcf4",
   "metadata": {},
   "source": [
    "    How likely is it that 450 students all download anaconda without an issue?"
   ]
  },
  {
   "cell_type": "markdown",
   "id": "e6c2a565-5235-4f69-b3d6-5593ee11ef56",
   "metadata": {},
   "source": [
    "7. There's a 70% chance on any given day that there will be at least one food truck at Travis Park. However, you haven't seen a food truck there in 3 days. How unlikely is this?"
   ]
  },
  {
   "cell_type": "markdown",
   "id": "363cc47c-b384-4128-ad5e-777e7260da07",
   "metadata": {},
   "source": [
    "    How likely is it that a food truck will show up sometime this week?"
   ]
  },
  {
   "cell_type": "markdown",
   "id": "41d89cc2-28c0-4625-8254-8c8458e669b4",
   "metadata": {},
   "source": [
    "8. If 23 people are in the same room, what are the odds that two of them share a birthday? What if it's 20 people? 40?"
   ]
  },
  {
   "cell_type": "code",
   "execution_count": null,
   "id": "a1c4e11a-13aa-449f-8ff0-0410c6c0523b",
   "metadata": {},
   "outputs": [],
   "source": []
  }
 ],
 "metadata": {
  "kernelspec": {
   "display_name": "Python 3 (ipykernel)",
   "language": "python",
   "name": "python3"
  },
  "language_info": {
   "codemirror_mode": {
    "name": "ipython",
    "version": 3
   },
   "file_extension": ".py",
   "mimetype": "text/x-python",
   "name": "python",
   "nbconvert_exporter": "python",
   "pygments_lexer": "ipython3",
   "version": "3.11.5"
  }
 },
 "nbformat": 4,
 "nbformat_minor": 5
}
