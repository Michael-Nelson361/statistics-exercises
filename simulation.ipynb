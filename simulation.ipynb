{
 "cells": [
  {
   "cell_type": "markdown",
   "id": "f64ecb18-b01c-4a35-b633-0e6fa9799809",
   "metadata": {},
   "source": [
    "Do your work for this exercise in either a python file named `simulation.py` or a jupyter notebook named `simulation.ipynb`."
   ]
  },
  {
   "cell_type": "code",
   "execution_count": 800,
   "id": "fc305a7a-843f-4216-9752-300ca5c8e647",
   "metadata": {
    "tags": []
   },
   "outputs": [],
   "source": [
    "# Import libraries\n",
    "import numpy as np\n",
    "import pandas as pd\n",
    "\n",
    "# Set up overall conditions\n",
    "np.random.seed(123)\n",
    "n_trials = 100_000"
   ]
  },
  {
   "cell_type": "markdown",
   "id": "028b9c00-d295-4ad9-90d5-b18c71351892",
   "metadata": {},
   "source": [
    "1. How likely is it that you roll doubles when rolling two dice?"
   ]
  },
  {
   "cell_type": "code",
   "execution_count": 803,
   "id": "773147fd-8887-4ad7-a8c5-dfd3d0519e28",
   "metadata": {
    "tags": []
   },
   "outputs": [],
   "source": [
    "# set up individual variables for our test\n",
    "outcomes = list(range(1,7))\n",
    "n_dice = 2"
   ]
  },
  {
   "cell_type": "code",
   "execution_count": 805,
   "id": "4987ccc1-d4c3-4929-8ae2-c31fc6fdb4bc",
   "metadata": {
    "tags": []
   },
   "outputs": [
    {
     "data": {
      "text/plain": [
       "array([[6, 3],\n",
       "       [5, 3],\n",
       "       [2, 4],\n",
       "       [3, 4],\n",
       "       [2, 2],\n",
       "       [1, 2],\n",
       "       [2, 1],\n",
       "       [1, 2],\n",
       "       [4, 6],\n",
       "       [5, 1]])"
      ]
     },
     "execution_count": 805,
     "metadata": {},
     "output_type": "execute_result"
    }
   ],
   "source": [
    "rolls = np.random.choice(outcomes,(n_trials,n_dice))\n",
    "rolls[:10]"
   ]
  },
  {
   "cell_type": "code",
   "execution_count": 807,
   "id": "51e38973-97be-44f3-b40c-34a9f344efb9",
   "metadata": {
    "tags": []
   },
   "outputs": [
    {
     "data": {
      "text/plain": [
       "0.16497"
      ]
     },
     "execution_count": 807,
     "metadata": {},
     "output_type": "execute_result"
    }
   ],
   "source": [
    "# Determine if roll 1 is also roll 2\n",
    "(rolls[:,0] == rolls[:,1]).sum() / len(rolls)"
   ]
  },
  {
   "cell_type": "markdown",
   "id": "beee4071-4629-4757-9714-2538269e342d",
   "metadata": {},
   "source": [
    "2. If you flip 8 coins, what is the probability of getting exactly 3 heads? What is the probability of getting more than 3 heads?"
   ]
  },
  {
   "cell_type": "code",
   "execution_count": 810,
   "id": "e8aa4e3d-b069-401c-93df-18d234eac164",
   "metadata": {
    "tags": []
   },
   "outputs": [
    {
     "data": {
      "text/plain": [
       "array([['T', 'T', 'T', 'T', 'H', 'T', 'T', 'H'],\n",
       "       ['H', 'H', 'H', 'H', 'T', 'H', 'T', 'H'],\n",
       "       ['H', 'H', 'T', 'T', 'T', 'T', 'H', 'H'],\n",
       "       ['H', 'T', 'T', 'T', 'H', 'T', 'H', 'H'],\n",
       "       ['T', 'T', 'H', 'T', 'H', 'H', 'T', 'H'],\n",
       "       ['T', 'H', 'T', 'H', 'T', 'H', 'T', 'T'],\n",
       "       ['H', 'H', 'T', 'H', 'T', 'T', 'T', 'H'],\n",
       "       ['H', 'H', 'H', 'T', 'H', 'T', 'T', 'T'],\n",
       "       ['T', 'H', 'H', 'T', 'H', 'H', 'T', 'T'],\n",
       "       ['T', 'H', 'H', 'T', 'H', 'T', 'T', 'T']], dtype='<U1')"
      ]
     },
     "execution_count": 810,
     "metadata": {},
     "output_type": "execute_result"
    }
   ],
   "source": [
    "# Adjust outcomes and set number of coins\n",
    "outcomes = ['H','T']\n",
    "n_coins = 8\n",
    "\n",
    "# Create number of trials\n",
    "flips = np.random.choice(outcomes,(n_trials,n_coins))\n",
    "flips[:10]"
   ]
  },
  {
   "cell_type": "code",
   "execution_count": 812,
   "id": "67089615-7899-4a02-acfc-02dd35a16237",
   "metadata": {
    "tags": []
   },
   "outputs": [
    {
     "data": {
      "text/plain": [
       "0.22128"
      ]
     },
     "execution_count": 812,
     "metadata": {},
     "output_type": "execute_result"
    }
   ],
   "source": [
    "# Determine probability of exactly 3 heads\n",
    "\n",
    "# First turn each flip into a boolean to check for heads, then get the row summary\n",
    "# Then if the row summary is equal to 3, sum that new boolean and divide by length of flips\n",
    "# to get final probability\n",
    "((flips == 'H').sum(axis=1) == 3).sum() / len(flips)"
   ]
  },
  {
   "cell_type": "code",
   "execution_count": 814,
   "id": "5aae1f92-a956-4c22-adf8-14e80eb58769",
   "metadata": {
    "tags": []
   },
   "outputs": [
    {
     "data": {
      "text/plain": [
       "0.63372"
      ]
     },
     "execution_count": 814,
     "metadata": {},
     "output_type": "execute_result"
    }
   ],
   "source": [
    "((flips == 'H').sum(axis=1) > 3).mean()"
   ]
  },
  {
   "cell_type": "markdown",
   "id": "47cbd31d-7ea6-4717-9038-403637318272",
   "metadata": {},
   "source": [
    "3. There are approximitely 3 web development cohorts for every 1 data science cohort at Codeup. Assuming that Codeup randomly selects an alumni to put on a billboard, what are the odds that the two billboards I drive past both have data science students on them?"
   ]
  },
  {
   "cell_type": "code",
   "execution_count": 817,
   "id": "285a796c-7f19-47fa-aac6-01e2b0dc8a74",
   "metadata": {
    "tags": []
   },
   "outputs": [
    {
     "data": {
      "text/plain": [
       "0.0625"
      ]
     },
     "execution_count": 817,
     "metadata": {},
     "output_type": "execute_result"
    }
   ],
   "source": [
    "# 3 web dev to 1 data science = 1/4th classes is a DS class\n",
    "# So it'll be something along the lines of 1/4 classes times 1/4\n",
    "# So our answer should look something like 1/16\n",
    "1/16"
   ]
  },
  {
   "cell_type": "code",
   "execution_count": 819,
   "id": "8af187c8-8157-431e-8402-e3385a0156f4",
   "metadata": {
    "tags": []
   },
   "outputs": [
    {
     "data": {
      "text/plain": [
       "array([['WD', 'WD'],\n",
       "       ['WD', 'WD'],\n",
       "       ['DS', 'WD'],\n",
       "       ['WD', 'DS'],\n",
       "       ['WD', 'DS'],\n",
       "       ['WD', 'WD'],\n",
       "       ['WD', 'DS'],\n",
       "       ['WD', 'DS'],\n",
       "       ['WD', 'WD'],\n",
       "       ['WD', 'WD']], dtype='<U2')"
      ]
     },
     "execution_count": 819,
     "metadata": {},
     "output_type": "execute_result"
    }
   ],
   "source": [
    "outcomes = ['DS','WD','WD','WD']\n",
    "n_boards = 2\n",
    "\n",
    "billboards = np.random.choice(outcomes,(n_trials,n_boards))\n",
    "billboards[:10]"
   ]
  },
  {
   "cell_type": "code",
   "execution_count": 821,
   "id": "d6bcb520-6db2-42bb-9603-eaf3a6af993b",
   "metadata": {
    "tags": []
   },
   "outputs": [
    {
     "data": {
      "text/plain": [
       "0.06396"
      ]
     },
     "execution_count": 821,
     "metadata": {},
     "output_type": "execute_result"
    }
   ],
   "source": [
    "# Create test condition against 'DS' for Data Science\n",
    "# Sum across rows\n",
    "# If the sum total equals 2, then 'DS' is on both billboards (turn that into a boolean)\n",
    "# Then get the sum of booleans divided by length of billboards\n",
    "((billboards == 'DS').sum(axis=1) == 2).sum() / len(billboards)"
   ]
  },
  {
   "cell_type": "code",
   "execution_count": 823,
   "id": "905e401c-6fb7-47c3-8401-e09325089ea8",
   "metadata": {
    "tags": []
   },
   "outputs": [
    {
     "data": {
      "text/plain": [
       "0.06396"
      ]
     },
     "execution_count": 823,
     "metadata": {},
     "output_type": "execute_result"
    }
   ],
   "source": [
    "# Try this with mean\n",
    "((billboards == 'DS').sum(axis=1) == 2).mean()"
   ]
  },
  {
   "cell_type": "code",
   "execution_count": 825,
   "id": "6bce90ba-4c51-4401-8d2b-b46f8c151414",
   "metadata": {
    "tags": []
   },
   "outputs": [],
   "source": [
    "# And 0.06212 is approximately correct to the odds we expect to see"
   ]
  },
  {
   "cell_type": "markdown",
   "id": "328820bb-61c7-45ba-ae8d-bf89fb5bfab0",
   "metadata": {},
   "source": [
    "4. Codeup students buy, on average, 3 poptart packages with a standard deviation of 1.5 a day from the snack vending machine. If on monday the machine is restocked with 17 poptart packages, how likely is it that I will be able to buy some poptarts on Friday afternoon? (Remember, if you have mean and standard deviation, use the `np.random.normal`) *You'll need to make a judgement call on how to handle some of your values*"
   ]
  },
  {
   "cell_type": "code",
   "execution_count": 828,
   "id": "7044fad5-e4e4-4de8-9b10-cda2002bfac9",
   "metadata": {
    "tags": []
   },
   "outputs": [
    {
     "data": {
      "text/plain": [
       "array([[1.68798591, 2.7698127 , 3.30310137, 3.45726925, 0.55099958],\n",
       "       [2.95339273, 1.30502667, 5.53459412, 4.82111324, 3.64236023],\n",
       "       [4.29160809, 1.96440374, 1.6045665 , 4.05790293, 2.53907919],\n",
       "       [1.52474342, 5.63936177, 4.04014284, 5.34792325, 3.85892812],\n",
       "       [1.8058607 , 2.67899881, 2.06632554, 2.12347509, 4.29128652],\n",
       "       [4.87627538, 6.69561876, 1.07489227, 3.12003442, 0.63729615],\n",
       "       [6.21811961, 4.19961101, 1.38112108, 4.94211217, 2.83728238],\n",
       "       [3.54715382, 4.90212404, 0.84800817, 2.84666182, 3.31683785],\n",
       "       [2.66662526, 4.270446  , 4.61220303, 2.62988572, 3.24501702],\n",
       "       [5.55606049, 2.9311997 , 1.13641218, 2.5483197 , 2.87501629]])"
      ]
     },
     "execution_count": 828,
     "metadata": {},
     "output_type": "execute_result"
    }
   ],
   "source": [
    "# Get an idea of using np.random.normal, and once familiarized, set that to a variable\n",
    "daily_poptarts = np.random.normal(loc=3.0,scale=1.5,size=(n_trials,5))\n",
    "daily_poptarts[:10]"
   ]
  },
  {
   "cell_type": "code",
   "execution_count": 830,
   "id": "8535683f-1279-4623-b963-9fb0807f3d97",
   "metadata": {
    "tags": []
   },
   "outputs": [
    {
     "data": {
      "text/plain": [
       "array([ 5.23083119, -1.25648699,  2.54243955, -3.4110994 ,  4.03405334,\n",
       "        0.59588302, -2.57824625,  1.5392143 , -0.42417704,  1.95299163])"
      ]
     },
     "execution_count": 830,
     "metadata": {},
     "output_type": "execute_result"
    }
   ],
   "source": [
    "# Making some assumptions here, but summing each row then subtracting that sum\n",
    "# from 17 (for initial starting value) should yield approximately how many packages are left\n",
    "# on Friday afternoon/evening\n",
    "end_consumption = 17 - daily_poptarts.sum(axis=1)\n",
    "end_consumption[:10]"
   ]
  },
  {
   "cell_type": "code",
   "execution_count": 832,
   "id": "0f7dab44-d8ba-45cf-8ef8-e28af21893ed",
   "metadata": {
    "tags": []
   },
   "outputs": [
    {
     "data": {
      "text/plain": [
       "0.61516"
      ]
     },
     "execution_count": 832,
     "metadata": {},
     "output_type": "execute_result"
    }
   ],
   "source": [
    "# Can't buy less than 1 package, so compare each value against 1\n",
    "# Then get the mean of those booleans\n",
    "(end_consumption > 1).mean()"
   ]
  },
  {
   "cell_type": "code",
   "execution_count": 834,
   "id": "eb54568b-5c25-4872-ae92-c42c45d77c48",
   "metadata": {
    "tags": []
   },
   "outputs": [
    {
     "data": {
      "text/plain": [
       "0.62"
      ]
     },
     "execution_count": 834,
     "metadata": {},
     "output_type": "execute_result"
    }
   ],
   "source": [
    "# Try altogether now\n",
    "daily_poptarts = np.random.normal(loc=3.0,scale=1.5,size=(n_trials,5))\n",
    "end_consumption = 17 - daily_poptarts.sum(axis=1)\n",
    "(end_consumption > 1).mean().round(2)\n",
    "\n",
    "# End value tends to be about 0.62, rounded"
   ]
  },
  {
   "cell_type": "markdown",
   "id": "1c6878fd-0577-46d6-bff1-b7aaced4065d",
   "metadata": {},
   "source": [
    "5. Compare Heights"
   ]
  },
  {
   "cell_type": "markdown",
   "id": "cbaa6933-e97d-4b80-bd2f-4d22ed01b1ba",
   "metadata": {},
   "source": [
    "- Men have an average height of 178 cm and standard deviation of 8cm."
   ]
  },
  {
   "cell_type": "code",
   "execution_count": 838,
   "id": "5cb5f88d-c33e-4169-ae2f-ac77d519d947",
   "metadata": {
    "tags": []
   },
   "outputs": [
    {
     "data": {
      "text/plain": [
       "array([175.06731455, 180.16580625, 184.72608636, 179.99107353,\n",
       "       173.11957806, 183.59234394, 183.99629043, 182.59218779,\n",
       "       161.61620243, 187.14400529])"
      ]
     },
     "execution_count": 838,
     "metadata": {},
     "output_type": "execute_result"
    }
   ],
   "source": [
    "# Establish male height and std\n",
    "m_ht = 178\n",
    "m_sd = 8\n",
    "\n",
    "# make the array of male heights\n",
    "m_heights = np.random.normal(m_ht,m_sd,(n_trials))\n",
    "m_heights[:10]"
   ]
  },
  {
   "cell_type": "markdown",
   "id": "0c6e13eb-7cc0-42ed-8500-a8a760180c27",
   "metadata": {},
   "source": [
    "- Women have a mean of 170, sd = 6cm."
   ]
  },
  {
   "cell_type": "code",
   "execution_count": 841,
   "id": "d881402a-7be7-4762-ad81-85f74aa0455f",
   "metadata": {
    "tags": []
   },
   "outputs": [
    {
     "data": {
      "text/plain": [
       "array([166.15346864, 166.03998357, 165.4708793 , 170.00408182,\n",
       "       177.51055964, 172.31119058, 177.30114656, 180.99675224,\n",
       "       169.07419928, 165.68364652])"
      ]
     },
     "execution_count": 841,
     "metadata": {},
     "output_type": "execute_result"
    }
   ],
   "source": [
    "# Establish female height and std\n",
    "f_ht = 170\n",
    "f_sd = 6\n",
    "\n",
    "# make the array of female heights\n",
    "f_heights = np.random.normal(f_ht,f_sd,(n_trials))\n",
    "f_heights[:10]"
   ]
  },
  {
   "cell_type": "markdown",
   "id": "3f9907ac-f69c-4047-a668-2d521e55feb6",
   "metadata": {},
   "source": [
    "- Since you have means and standard deviations, you can use `np.random.normal` to generate observations."
   ]
  },
  {
   "cell_type": "code",
   "execution_count": 844,
   "id": "316d6860-4c2f-486f-a914-839ea72c447f",
   "metadata": {
    "tags": []
   },
   "outputs": [
    {
     "data": {
      "text/html": [
       "<div>\n",
       "<style scoped>\n",
       "    .dataframe tbody tr th:only-of-type {\n",
       "        vertical-align: middle;\n",
       "    }\n",
       "\n",
       "    .dataframe tbody tr th {\n",
       "        vertical-align: top;\n",
       "    }\n",
       "\n",
       "    .dataframe thead th {\n",
       "        text-align: right;\n",
       "    }\n",
       "</style>\n",
       "<table border=\"1\" class=\"dataframe\">\n",
       "  <thead>\n",
       "    <tr style=\"text-align: right;\">\n",
       "      <th></th>\n",
       "      <th>male_height</th>\n",
       "      <th>female_height</th>\n",
       "    </tr>\n",
       "  </thead>\n",
       "  <tbody>\n",
       "    <tr>\n",
       "      <th>count</th>\n",
       "      <td>100000.0</td>\n",
       "      <td>100000.0</td>\n",
       "    </tr>\n",
       "    <tr>\n",
       "      <th>mean</th>\n",
       "      <td>178.0</td>\n",
       "      <td>170.0</td>\n",
       "    </tr>\n",
       "    <tr>\n",
       "      <th>std</th>\n",
       "      <td>8.0</td>\n",
       "      <td>6.0</td>\n",
       "    </tr>\n",
       "    <tr>\n",
       "      <th>min</th>\n",
       "      <td>147.0</td>\n",
       "      <td>145.0</td>\n",
       "    </tr>\n",
       "    <tr>\n",
       "      <th>25%</th>\n",
       "      <td>173.0</td>\n",
       "      <td>166.0</td>\n",
       "    </tr>\n",
       "    <tr>\n",
       "      <th>50%</th>\n",
       "      <td>178.0</td>\n",
       "      <td>170.0</td>\n",
       "    </tr>\n",
       "    <tr>\n",
       "      <th>75%</th>\n",
       "      <td>183.0</td>\n",
       "      <td>174.0</td>\n",
       "    </tr>\n",
       "    <tr>\n",
       "      <th>max</th>\n",
       "      <td>208.0</td>\n",
       "      <td>196.0</td>\n",
       "    </tr>\n",
       "  </tbody>\n",
       "</table>\n",
       "</div>"
      ],
      "text/plain": [
       "       male_height  female_height\n",
       "count     100000.0       100000.0\n",
       "mean         178.0          170.0\n",
       "std            8.0            6.0\n",
       "min          147.0          145.0\n",
       "25%          173.0          166.0\n",
       "50%          178.0          170.0\n",
       "75%          183.0          174.0\n",
       "max          208.0          196.0"
      ]
     },
     "execution_count": 844,
     "metadata": {},
     "output_type": "execute_result"
    }
   ],
   "source": [
    "# Establish a DataFrame to hold randomized comparisons\n",
    "# Dataframe not necessary, but it makes things easier\n",
    "\n",
    "heights = pd.DataFrame(\n",
    "    {\n",
    "        'male_height':np.random.choice(m_heights,(n_trials)),\n",
    "        'female_height':np.random.choice(f_heights,(n_trials))\n",
    "    }\n",
    ")\n",
    "\n",
    "heights.describe().round()"
   ]
  },
  {
   "cell_type": "markdown",
   "id": "1997360d-8973-447e-8307-6b554f36b842",
   "metadata": {},
   "source": [
    "- If a man and woman are chosen at random, what is the likelihood the woman is taller than the man?"
   ]
  },
  {
   "cell_type": "code",
   "execution_count": 847,
   "id": "48a1b0e7-dcb4-40fa-8a5a-970d6ec06b11",
   "metadata": {
    "tags": []
   },
   "outputs": [
    {
     "data": {
      "text/plain": [
       "0.21457"
      ]
     },
     "execution_count": 847,
     "metadata": {},
     "output_type": "execute_result"
    }
   ],
   "source": [
    "# Simple boolean comparison and voila, we have our probability!\n",
    "(heights.female_height > heights.male_height).mean()"
   ]
  },
  {
   "cell_type": "markdown",
   "id": "0678afa6-5eaa-4eb5-b335-b3cd98eb5758",
   "metadata": {},
   "source": [
    "6. When installing anaconda on a student's computer, there's a 1 in 250 chance that the download is corrupted and the installation fails. What are the odds that after having 50 students download anaconda, no one has an installation issue? 100 students?"
   ]
  },
  {
   "cell_type": "code",
   "execution_count": 850,
   "id": "6f2f65da-6d20-4add-ae2d-288e2baf7a15",
   "metadata": {
    "tags": []
   },
   "outputs": [
    {
     "data": {
      "text/plain": [
       "0.8184024506760997"
      ]
     },
     "execution_count": 850,
     "metadata": {},
     "output_type": "execute_result"
    }
   ],
   "source": [
    "# p = probability of single event, in this case 1 in 250 chance of download corrupted\n",
    "# n = number of trials, in this case the number of students downloading\n",
    "p = 1/250\n",
    "n = 50\n",
    "(1-p)**n\n",
    "\n",
    "# So the probability of no one having an installation issue over 50 students is:"
   ]
  },
  {
   "cell_type": "code",
   "execution_count": 852,
   "id": "df17d0e6-e73f-47c5-8fa7-0adc20781429",
   "metadata": {
    "tags": []
   },
   "outputs": [
    {
     "data": {
      "text/plain": [
       "array([[0.12310616, 0.52675227, 0.20126506, 0.18043498, 0.80104613,\n",
       "        0.62691938, 0.27662418, 0.81050405, 0.60229298, 0.05055323,\n",
       "        0.81671477, 0.94373607, 0.72268724, 0.15622368, 0.34682255,\n",
       "        0.31358997, 0.47121437, 0.28991572, 0.73319046, 0.86925656,\n",
       "        0.1681269 , 0.42222747, 0.45120135, 0.00439776, 0.84075202,\n",
       "        0.29748951, 0.03844183, 0.00567731, 0.15562885, 0.31130481,\n",
       "        0.06799421, 0.72630896, 0.80293094, 0.23245541, 0.5135685 ,\n",
       "        0.64329465, 0.5002918 , 0.27122958, 0.58331618, 0.75355195,\n",
       "        0.46456472, 0.83569144, 0.22662404, 0.14728746, 0.77547688,\n",
       "        0.9003262 , 0.46647358, 0.17055439, 0.7239486 , 0.48968672],\n",
       "       [0.86588007, 0.98744363, 0.60769011, 0.73389239, 0.17195023,\n",
       "        0.36624114, 0.22410136, 0.04640949, 0.02370488, 0.31819625,\n",
       "        0.9208575 , 0.44227546, 0.71155077, 0.59375613, 0.45129411,\n",
       "        0.20459393, 0.84094231, 0.45397945, 0.41321107, 0.12560271,\n",
       "        0.82872283, 0.02012217, 0.18634058, 0.04044223, 0.13460395,\n",
       "        0.69697754, 0.38752838, 0.42077028, 0.12911399, 0.15877706,\n",
       "        0.06480368, 0.37605266, 0.38559186, 0.96912706, 0.23824349,\n",
       "        0.30749226, 0.32628715, 0.15883899, 0.38019857, 0.93997862,\n",
       "        0.34916657, 0.81968082, 0.11372151, 0.17972426, 0.72086792,\n",
       "        0.44534352, 0.67723358, 0.77367609, 0.4189165 , 0.83210256]])"
      ]
     },
     "execution_count": 852,
     "metadata": {},
     "output_type": "execute_result"
    }
   ],
   "source": [
    "# Simulate the odds\n",
    "downloads = np.random.random((n_trials,n))\n",
    "downloads[:2]"
   ]
  },
  {
   "cell_type": "code",
   "execution_count": 854,
   "id": "566bb641-6e20-4851-bf6a-24c6ae8d96c3",
   "metadata": {
    "tags": []
   },
   "outputs": [
    {
     "data": {
      "text/plain": [
       "array([[ True,  True,  True,  True,  True,  True,  True,  True,  True,\n",
       "         True,  True,  True,  True,  True,  True,  True,  True,  True,\n",
       "         True,  True,  True,  True,  True,  True,  True,  True,  True,\n",
       "         True,  True,  True,  True,  True,  True,  True,  True,  True,\n",
       "         True,  True,  True,  True,  True,  True,  True,  True,  True,\n",
       "         True,  True,  True,  True,  True],\n",
       "       [ True,  True,  True,  True,  True,  True,  True,  True,  True,\n",
       "         True,  True,  True,  True,  True,  True,  True,  True,  True,\n",
       "         True,  True,  True,  True,  True,  True,  True,  True,  True,\n",
       "         True,  True,  True,  True,  True,  True,  True,  True,  True,\n",
       "         True,  True,  True,  True,  True,  True,  True,  True,  True,\n",
       "         True,  True,  True,  True,  True]])"
      ]
     },
     "execution_count": 854,
     "metadata": {},
     "output_type": "execute_result"
    }
   ],
   "source": [
    "# Create a boolean of students succeeding\n",
    "download_success = downloads > p\n",
    "download_success[:2]"
   ]
  },
  {
   "cell_type": "code",
   "execution_count": 856,
   "id": "b8314e7c-ae6c-4e79-8dfc-f82dbe4cd782",
   "metadata": {
    "tags": []
   },
   "outputs": [
    {
     "data": {
      "text/plain": [
       "0.8192"
      ]
     },
     "execution_count": 856,
     "metadata": {},
     "output_type": "execute_result"
    }
   ],
   "source": [
    "# Aggregate the results\n",
    "(download_success.sum(axis=1) == n).mean()"
   ]
  },
  {
   "cell_type": "code",
   "execution_count": 858,
   "id": "d0e12464-8323-4a53-a7a3-0dcbce3ddd19",
   "metadata": {
    "tags": []
   },
   "outputs": [
    {
     "data": {
      "text/plain": [
       "0.6697825712726458"
      ]
     },
     "execution_count": 858,
     "metadata": {},
     "output_type": "execute_result"
    }
   ],
   "source": [
    "# change n to 100 for larger scale\n",
    "n = 100\n",
    "(1-p)**n\n",
    "\n",
    "# Probability of 100 students not having a single issue:"
   ]
  },
  {
   "cell_type": "code",
   "execution_count": 860,
   "id": "a2fbd31b-ca8a-4205-92ba-9458b96c6daa",
   "metadata": {
    "tags": []
   },
   "outputs": [
    {
     "data": {
      "text/plain": [
       "0.66692"
      ]
     },
     "execution_count": 860,
     "metadata": {},
     "output_type": "execute_result"
    }
   ],
   "source": [
    "# Simulate the odds, changing n to 100\n",
    "downloads = np.random.random((n_trials,n))\n",
    "download_success = downloads > p\n",
    "(download_success.sum(axis=1) == n).mean()"
   ]
  },
  {
   "cell_type": "markdown",
   "id": "4483d199-1318-4a98-9dac-12ce76bf2248",
   "metadata": {},
   "source": [
    "    What is the probability that we observe an installation issue within the first 150 students that download anaconda?"
   ]
  },
  {
   "cell_type": "code",
   "execution_count": 863,
   "id": "e0c24ca5-17c1-4985-861a-1639b33e346c",
   "metadata": {
    "tags": []
   },
   "outputs": [
    {
     "data": {
      "text/plain": [
       "0.4518483022503271"
      ]
     },
     "execution_count": 863,
     "metadata": {},
     "output_type": "execute_result"
    }
   ],
   "source": [
    "# Now changing n to 150\n",
    "# Also run it a bit differently\n",
    "n = 150\n",
    "\n",
    "# Probability of a single event happening is just the inverse of the event not happening\n",
    "1-(1-p)**n\n",
    "\n",
    "# Expected answer:"
   ]
  },
  {
   "cell_type": "code",
   "execution_count": 865,
   "id": "13c3e8f6-7d1c-42ef-b06d-75c133a84a9f",
   "metadata": {
    "tags": []
   },
   "outputs": [
    {
     "data": {
      "text/plain": [
       "0.45283"
      ]
     },
     "execution_count": 865,
     "metadata": {},
     "output_type": "execute_result"
    }
   ],
   "source": [
    "downloads = np.random.random((n_trials,n))\n",
    "download_fail = downloads <= p\n",
    "(download_fail.sum(axis=1) >= 1).mean()"
   ]
  },
  {
   "cell_type": "markdown",
   "id": "23ca86cb-bfcc-49d9-9870-1ee29361dcf4",
   "metadata": {},
   "source": [
    "    How likely is it that 450 students all download anaconda without an issue?"
   ]
  },
  {
   "cell_type": "code",
   "execution_count": 868,
   "id": "4da70a2a-9ae5-4491-ab61-d04a3cb7f044",
   "metadata": {
    "tags": []
   },
   "outputs": [
    {
     "data": {
      "text/plain": [
       "0.1647032961586129"
      ]
     },
     "execution_count": 868,
     "metadata": {},
     "output_type": "execute_result"
    }
   ],
   "source": [
    "n = 450\n",
    "\n",
    "(1-p)**n\n",
    "\n",
    "# Expected answer:"
   ]
  },
  {
   "cell_type": "code",
   "execution_count": 870,
   "id": "cbad5bef-1bfc-427a-acf8-3806b8688027",
   "metadata": {
    "tags": []
   },
   "outputs": [
    {
     "data": {
      "text/plain": [
       "0.16506"
      ]
     },
     "execution_count": 870,
     "metadata": {},
     "output_type": "execute_result"
    }
   ],
   "source": [
    "downloads = np.random.random((n_trials,n))\n",
    "download_success = downloads > p\n",
    "(download_success.sum(axis=1) == n).mean()"
   ]
  },
  {
   "cell_type": "markdown",
   "id": "e6c2a565-5235-4f69-b3d6-5593ee11ef56",
   "metadata": {},
   "source": [
    "7. There's a 70% chance on any given day that there will be at least one food truck at Travis Park. However, you haven't seen a food truck there in 3 days. How unlikely is this?"
   ]
  },
  {
   "cell_type": "code",
   "execution_count": 938,
   "id": "4a7a8aa6-aa21-44f9-8d8a-faa649200aab",
   "metadata": {
    "tags": []
   },
   "outputs": [
    {
     "data": {
      "text/plain": [
       "0.027000000000000014"
      ]
     },
     "execution_count": 938,
     "metadata": {},
     "output_type": "execute_result"
    }
   ],
   "source": [
    "# Establish variables\n",
    "p = 7/10\n",
    "n = 3\n",
    "\n",
    "(1-p)**n\n",
    "# Probability of food truck not appearing in 3 days:"
   ]
  },
  {
   "cell_type": "code",
   "execution_count": 875,
   "id": "941792f3-ba4e-4304-8433-630de93ce1d1",
   "metadata": {
    "tags": []
   },
   "outputs": [],
   "source": [
    "# prob_of_truck=np.random.random((n_trials,n))\n",
    "# prob_of_truck[:10]\n",
    "# truck_found=prob_of_truck < p\n",
    "# truck_found[:10]\n",
    "# (truck_found.sum(axis=1) == 0).mean()"
   ]
  },
  {
   "cell_type": "code",
   "execution_count": 877,
   "id": "66156403-2723-4d3d-9ba2-160603000f20",
   "metadata": {
    "tags": []
   },
   "outputs": [
    {
     "data": {
      "text/plain": [
       "array([['Truck', 'No Truck', 'Truck'],\n",
       "       ['Truck', 'No Truck', 'No Truck'],\n",
       "       ['Truck', 'Truck', 'Truck'],\n",
       "       ['Truck', 'No Truck', 'Truck'],\n",
       "       ['Truck', 'Truck', 'No Truck'],\n",
       "       ['No Truck', 'No Truck', 'Truck'],\n",
       "       ['Truck', 'Truck', 'No Truck'],\n",
       "       ['Truck', 'Truck', 'No Truck'],\n",
       "       ['Truck', 'Truck', 'Truck'],\n",
       "       ['Truck', 'Truck', 'Truck']], dtype='<U8')"
      ]
     },
     "execution_count": 877,
     "metadata": {},
     "output_type": "execute_result"
    }
   ],
   "source": [
    "# Reminder that in this instance, the probabilities are weighted\n",
    "prob_of_truck = np.random.choice(['Truck','No Truck'],(n_trials,n),p=[.7,.3])\n",
    "prob_of_truck[:10]"
   ]
  },
  {
   "cell_type": "code",
   "execution_count": 879,
   "id": "f3ca4c36-e681-4a43-95e5-b76717cacda2",
   "metadata": {
    "tags": []
   },
   "outputs": [
    {
     "data": {
      "text/plain": [
       "array([[ True, False,  True],\n",
       "       [ True, False, False],\n",
       "       [ True,  True,  True],\n",
       "       [ True, False,  True],\n",
       "       [ True,  True, False],\n",
       "       [False, False,  True],\n",
       "       [ True,  True, False],\n",
       "       [ True,  True, False],\n",
       "       [ True,  True,  True],\n",
       "       [ True,  True,  True]])"
      ]
     },
     "execution_count": 879,
     "metadata": {},
     "output_type": "execute_result"
    }
   ],
   "source": [
    "truck_found = prob_of_truck == 'Truck'\n",
    "truck_found[:10]"
   ]
  },
  {
   "cell_type": "code",
   "execution_count": 881,
   "id": "2ef00ecb-6c96-47ea-a34d-e52464efd57a",
   "metadata": {
    "tags": []
   },
   "outputs": [
    {
     "data": {
      "text/plain": [
       "0.02792"
      ]
     },
     "execution_count": 881,
     "metadata": {},
     "output_type": "execute_result"
    }
   ],
   "source": [
    "(truck_found.sum(axis=1) == 0).mean()"
   ]
  },
  {
   "cell_type": "markdown",
   "id": "363cc47c-b384-4128-ad5e-777e7260da07",
   "metadata": {},
   "source": [
    "    How likely is it that a food truck will show up sometime this week?"
   ]
  },
  {
   "cell_type": "code",
   "execution_count": 942,
   "id": "5c4dc0cc-f9a9-426b-91ef-567c77bf8739",
   "metadata": {
    "tags": []
   },
   "outputs": [
    {
     "data": {
      "text/plain": [
       "0.99985"
      ]
     },
     "execution_count": 942,
     "metadata": {},
     "output_type": "execute_result"
    }
   ],
   "source": [
    "# Change n to 7 for 7 days of the week\n",
    "n = 7\n",
    "\n",
    "prob_of_truck = np.random.random((n_trials,n))\n",
    "# print(prob_of_truck[:10])\n",
    "truck_found = prob_of_truck < p\n",
    "# print(truck_found[:10])\n",
    "(truck_found.sum(axis=1) >= 1).mean()"
   ]
  },
  {
   "cell_type": "markdown",
   "id": "41d89cc2-28c0-4625-8254-8c8458e669b4",
   "metadata": {},
   "source": [
    "8. If 23 people are in the same room, what are the odds that two of them share a birthday? What if it's 20 people? 40?"
   ]
  },
  {
   "cell_type": "code",
   "execution_count": 887,
   "id": "a1c4e11a-13aa-449f-8ff0-0410c6c0523b",
   "metadata": {},
   "outputs": [],
   "source": [
    "# Establish probabilities and number of events\n",
    "p = 1/365\n",
    "n = 23\n",
    "birthdays = list(range(1,366))"
   ]
  },
  {
   "cell_type": "code",
   "execution_count": 889,
   "id": "c4c5de8b-5cbb-4c78-886c-83cb9433fe56",
   "metadata": {
    "tags": []
   },
   "outputs": [
    {
     "data": {
      "text/html": [
       "<div>\n",
       "<style scoped>\n",
       "    .dataframe tbody tr th:only-of-type {\n",
       "        vertical-align: middle;\n",
       "    }\n",
       "\n",
       "    .dataframe tbody tr th {\n",
       "        vertical-align: top;\n",
       "    }\n",
       "\n",
       "    .dataframe thead th {\n",
       "        text-align: right;\n",
       "    }\n",
       "</style>\n",
       "<table border=\"1\" class=\"dataframe\">\n",
       "  <thead>\n",
       "    <tr style=\"text-align: right;\">\n",
       "      <th></th>\n",
       "      <th>0</th>\n",
       "      <th>1</th>\n",
       "      <th>2</th>\n",
       "      <th>3</th>\n",
       "      <th>4</th>\n",
       "      <th>5</th>\n",
       "      <th>6</th>\n",
       "      <th>7</th>\n",
       "      <th>8</th>\n",
       "      <th>9</th>\n",
       "      <th>...</th>\n",
       "      <th>13</th>\n",
       "      <th>14</th>\n",
       "      <th>15</th>\n",
       "      <th>16</th>\n",
       "      <th>17</th>\n",
       "      <th>18</th>\n",
       "      <th>19</th>\n",
       "      <th>20</th>\n",
       "      <th>21</th>\n",
       "      <th>22</th>\n",
       "    </tr>\n",
       "  </thead>\n",
       "  <tbody>\n",
       "    <tr>\n",
       "      <th>0</th>\n",
       "      <td>219</td>\n",
       "      <td>212</td>\n",
       "      <td>157</td>\n",
       "      <td>281</td>\n",
       "      <td>6</td>\n",
       "      <td>239</td>\n",
       "      <td>150</td>\n",
       "      <td>338</td>\n",
       "      <td>172</td>\n",
       "      <td>5</td>\n",
       "      <td>...</td>\n",
       "      <td>206</td>\n",
       "      <td>261</td>\n",
       "      <td>230</td>\n",
       "      <td>132</td>\n",
       "      <td>136</td>\n",
       "      <td>177</td>\n",
       "      <td>140</td>\n",
       "      <td>265</td>\n",
       "      <td>362</td>\n",
       "      <td>32</td>\n",
       "    </tr>\n",
       "    <tr>\n",
       "      <th>1</th>\n",
       "      <td>126</td>\n",
       "      <td>154</td>\n",
       "      <td>308</td>\n",
       "      <td>91</td>\n",
       "      <td>27</td>\n",
       "      <td>204</td>\n",
       "      <td>6</td>\n",
       "      <td>305</td>\n",
       "      <td>196</td>\n",
       "      <td>238</td>\n",
       "      <td>...</td>\n",
       "      <td>313</td>\n",
       "      <td>94</td>\n",
       "      <td>237</td>\n",
       "      <td>12</td>\n",
       "      <td>89</td>\n",
       "      <td>102</td>\n",
       "      <td>285</td>\n",
       "      <td>353</td>\n",
       "      <td>49</td>\n",
       "      <td>250</td>\n",
       "    </tr>\n",
       "    <tr>\n",
       "      <th>2</th>\n",
       "      <td>185</td>\n",
       "      <td>68</td>\n",
       "      <td>245</td>\n",
       "      <td>275</td>\n",
       "      <td>184</td>\n",
       "      <td>53</td>\n",
       "      <td>12</td>\n",
       "      <td>87</td>\n",
       "      <td>132</td>\n",
       "      <td>3</td>\n",
       "      <td>...</td>\n",
       "      <td>118</td>\n",
       "      <td>216</td>\n",
       "      <td>187</td>\n",
       "      <td>13</td>\n",
       "      <td>305</td>\n",
       "      <td>336</td>\n",
       "      <td>314</td>\n",
       "      <td>156</td>\n",
       "      <td>216</td>\n",
       "      <td>300</td>\n",
       "    </tr>\n",
       "    <tr>\n",
       "      <th>3</th>\n",
       "      <td>263</td>\n",
       "      <td>302</td>\n",
       "      <td>219</td>\n",
       "      <td>15</td>\n",
       "      <td>113</td>\n",
       "      <td>115</td>\n",
       "      <td>229</td>\n",
       "      <td>54</td>\n",
       "      <td>36</td>\n",
       "      <td>179</td>\n",
       "      <td>...</td>\n",
       "      <td>162</td>\n",
       "      <td>79</td>\n",
       "      <td>302</td>\n",
       "      <td>22</td>\n",
       "      <td>131</td>\n",
       "      <td>37</td>\n",
       "      <td>347</td>\n",
       "      <td>9</td>\n",
       "      <td>360</td>\n",
       "      <td>200</td>\n",
       "    </tr>\n",
       "    <tr>\n",
       "      <th>4</th>\n",
       "      <td>255</td>\n",
       "      <td>337</td>\n",
       "      <td>100</td>\n",
       "      <td>122</td>\n",
       "      <td>321</td>\n",
       "      <td>313</td>\n",
       "      <td>24</td>\n",
       "      <td>350</td>\n",
       "      <td>148</td>\n",
       "      <td>267</td>\n",
       "      <td>...</td>\n",
       "      <td>239</td>\n",
       "      <td>271</td>\n",
       "      <td>154</td>\n",
       "      <td>343</td>\n",
       "      <td>277</td>\n",
       "      <td>287</td>\n",
       "      <td>109</td>\n",
       "      <td>18</td>\n",
       "      <td>186</td>\n",
       "      <td>42</td>\n",
       "    </tr>\n",
       "  </tbody>\n",
       "</table>\n",
       "<p>5 rows × 23 columns</p>\n",
       "</div>"
      ],
      "text/plain": [
       "    0    1    2    3    4    5    6    7    8    9   ...   13   14   15   16  \\\n",
       "0  219  212  157  281    6  239  150  338  172    5  ...  206  261  230  132   \n",
       "1  126  154  308   91   27  204    6  305  196  238  ...  313   94  237   12   \n",
       "2  185   68  245  275  184   53   12   87  132    3  ...  118  216  187   13   \n",
       "3  263  302  219   15  113  115  229   54   36  179  ...  162   79  302   22   \n",
       "4  255  337  100  122  321  313   24  350  148  267  ...  239  271  154  343   \n",
       "\n",
       "    17   18   19   20   21   22  \n",
       "0  136  177  140  265  362   32  \n",
       "1   89  102  285  353   49  250  \n",
       "2  305  336  314  156  216  300  \n",
       "3  131   37  347    9  360  200  \n",
       "4  277  287  109   18  186   42  \n",
       "\n",
       "[5 rows x 23 columns]"
      ]
     },
     "execution_count": 889,
     "metadata": {},
     "output_type": "execute_result"
    }
   ],
   "source": [
    "birthday_df = pd.DataFrame(np.random.choice(birthdays,(n_trials,n)))\n",
    "birthday_df.head(5)"
   ]
  },
  {
   "cell_type": "code",
   "execution_count": 891,
   "id": "fb7d7cc0-eca6-4d43-a42a-4f5379d9141c",
   "metadata": {
    "tags": []
   },
   "outputs": [
    {
     "data": {
      "text/plain": [
       "0.36393"
      ]
     },
     "execution_count": 891,
     "metadata": {},
     "output_type": "execute_result"
    }
   ],
   "source": [
    "# For exactly 2 people and no more\n",
    "(birthday_df.nunique(axis=1) == n-1).mean()"
   ]
  },
  {
   "cell_type": "code",
   "execution_count": 892,
   "id": "85218629-6784-40fc-a158-671d0778c9f6",
   "metadata": {
    "tags": []
   },
   "outputs": [
    {
     "data": {
      "text/plain": [
       "0.50665"
      ]
     },
     "execution_count": 892,
     "metadata": {},
     "output_type": "execute_result"
    }
   ],
   "source": [
    "# For at least 2 or more people\n",
    "(birthday_df.nunique(axis=1) < n).mean()"
   ]
  },
  {
   "cell_type": "code",
   "execution_count": 893,
   "id": "76837c36-1eb0-4b11-91fe-93d1e04d5387",
   "metadata": {
    "tags": []
   },
   "outputs": [
    {
     "data": {
      "text/plain": [
       "0.41281"
      ]
     },
     "execution_count": 893,
     "metadata": {},
     "output_type": "execute_result"
    }
   ],
   "source": [
    "# Calculate probability for 20 people in a room\n",
    "n = 20\n",
    "birthday_df = pd.DataFrame(np.random.choice(birthdays,(n_trials,n)))\n",
    "(birthday_df.nunique(axis=1) < n).mean()"
   ]
  },
  {
   "cell_type": "code",
   "execution_count": 894,
   "id": "57c7d702-4de5-4ab3-ad21-62157ef10bce",
   "metadata": {
    "tags": []
   },
   "outputs": [
    {
     "data": {
      "text/plain": [
       "0.89259"
      ]
     },
     "execution_count": 894,
     "metadata": {},
     "output_type": "execute_result"
    }
   ],
   "source": [
    "# Calculate probability for 40 people in a room\n",
    "n = 40\n",
    "birthday_df = pd.DataFrame(np.random.choice(birthdays,(n_trials,n)))\n",
    "(birthday_df.nunique(axis=1) < n).mean()"
   ]
  }
 ],
 "metadata": {
  "kernelspec": {
   "display_name": "Python 3 (ipykernel)",
   "language": "python",
   "name": "python3"
  },
  "language_info": {
   "codemirror_mode": {
    "name": "ipython",
    "version": 3
   },
   "file_extension": ".py",
   "mimetype": "text/x-python",
   "name": "python",
   "nbconvert_exporter": "python",
   "pygments_lexer": "ipython3",
   "version": "3.11.5"
  }
 },
 "nbformat": 4,
 "nbformat_minor": 5
}
